{
 "cells": [
  {
   "cell_type": "code",
   "execution_count": 1,
   "metadata": {},
   "outputs": [],
   "source": [
    "import json\n",
    "import numpy as np\n",
    "import matplotlib.pyplot as plt"
   ]
  },
  {
   "cell_type": "code",
   "execution_count": 2,
   "metadata": {},
   "outputs": [],
   "source": [
    "# Load data\n",
    "\n",
    "data_file_name = 'match_data/match_data_euw1_10.12_210620.txt'\n",
    "with open(data_file_name) as json_file:\n",
    "    match_data_json = json.load(json_file)\n",
    "\n",
    "with open(data_file_name[:-4] + '_comp.txt') as json_file:\n",
    "    comp_name_dict = json.load(json_file)"
   ]
  },
  {
   "cell_type": "code",
   "execution_count": 4,
   "metadata": {},
   "outputs": [],
   "source": [
    "# I found up to 6 people playing the same comp lol\n",
    "comp_stats_dict = {}\n",
    "for k,v in comp_name_dict.items():\n",
    "    comp_stats_dict[k] = {'name':v, \n",
    "                          'plays':0, \n",
    "                          'placements':[],\n",
    "                          'placements_1':[],\n",
    "                          'placements_2':[],\n",
    "                          'placements_3':[],\n",
    "                          'placements_4':[],\n",
    "                          'placements_5':[],\n",
    "                          'placements_6':[],\n",
    "                          'placements_7':[],\n",
    "                          'placements_8':[]}\n",
    "\n",
    "for i in match_data_json:\n",
    "    participant_list = i['info']['participants']\n",
    "    participant_comps = [j['comp'] for j in participant_list]\n",
    "    comps_count = [participant_comps.count(j) for j in participant_comps]\n",
    "    for j in range(len(participant_list)):\n",
    "        participant = participant_list[j]\n",
    "        comp_stats_dict[str(participant['comp'])]['plays'] += 1\n",
    "        comp_stats_dict[str(participant['comp'])]['placements'].append(participant['placement'])\n",
    "        count = comps_count[j]\n",
    "        comp_stats_dict[str(participant['comp'])]['placements_'+str(count)].append(participant['placement'])\n",
    "\n",
    "n = len(match_data_json)*8\n",
    "    \n",
    "for k,v in comp_stats_dict.items():\n",
    "    v['playrate'] = v['plays']/n\n",
    "    v['average_placement'] = np.mean(v['placements'])\n",
    "    v['winrate'] = v['placements'].count(1) / len(v['placements'])\n",
    "    v['average_placement_1'] = np.mean(v['placements_1'])\n",
    "    v['average_placement_2'] = np.mean(v['placements_2'])\n",
    "    v['average_placement_3'] = np.mean(v['placements_3'])\n",
    "    v['winrate_1'] = v['placements_1'].count(1) / len(v['placements_1'])\n",
    "    v['winrate_2'] = v['placements_2'].count(1) / len(v['placements_2']) if len(v['placements_2']) != 0 else 0\n",
    "    v['winrate_3'] = v['placements_3'].count(1) / len(v['placements_3']) if len(v['placements_3']) != 0 else 0\n",
    "\n",
    "comp_stats = {}\n",
    "for k,v in comp_stats_dict.items():\n",
    "    comp_stats[k] = {k1: v[k1] for k1 in ('name',\n",
    "                                           'playrate', \n",
    "                                           'average_placement', \n",
    "                                           'winrate',\n",
    "                                           'average_placement_1',\n",
    "                                           'average_placement_2',\n",
    "                                           'average_placement_3',\n",
    "                                           'winrate_1',\n",
    "                                           'winrate_2',\n",
    "                                           'winrate_3')}"
   ]
  },
  {
   "cell_type": "code",
   "execution_count": 5,
   "metadata": {},
   "outputs": [
    {
     "name": "stdout",
     "output_type": "stream",
     "text": [
      "['Cybernetic_1.9', 'Chrono_0.9', 'Sniper_0.8', 'ManaReaver_0.6', 'Vanguard_0.6', 'Set3_Blademaster_0.4', 'Infiltrator_0.3', 'Blaster_0.1', 'Set3_Brawler_0.1']\n",
      "Playrate:  20.47 %\n",
      "Average placement:  4.32\n",
      "Average placement with 0, 1, 2 contesters:  3.96 4.33 4.52\n",
      "Winrate:  14.94 %\n",
      "Winrate with 0, 1, 2 contesters:  19.0 % 14.69 % 12.96 %\n",
      "-------------------------------------------------------------------------\n",
      "['Rebel_1.3', 'Set3_Brawler_1.2', 'Blaster_0.9', 'Chrono_0.9', 'Starship_0.7', 'Demolitionist_0.3', 'Mercenary_0.3', 'Infiltrator_0.2', 'Set3_Mystic_0.2', 'Set3_Blademaster_0.1', 'Paragon_0.1']\n",
      "Playrate:  24.82 %\n",
      "Average placement:  4.45\n",
      "Average placement with 0, 1, 2 contesters:  4.07 4.31 4.61\n",
      "Winrate:  11.59 %\n",
      "Winrate with 0, 1, 2 contesters:  14.61 % 13.23 % 9.86 %\n",
      "-------------------------------------------------------------------------\n",
      "['Set3_Sorcerer_1.4', 'MechPilot_1.0', 'Infiltrator_0.8', 'Demolitionist_0.7', 'Mercenary_0.6', 'Set3_Mystic_0.5', 'DarkStar_0.4', 'StarGuardian_0.2', 'Battlecast_0.2', 'Paragon_0.2', 'Chrono_0.1', 'Rebel_0.1', 'Starship_0.1']\n",
      "Playrate:  8.04 %\n",
      "Average placement:  4.5\n",
      "Average placement with 0, 1, 2 contesters:  4.34 4.75 4.76\n",
      "Winrate:  9.77 %\n",
      "Winrate with 0, 1, 2 contesters:  10.99 % 7.68 % 9.26 %\n",
      "-------------------------------------------------------------------------\n",
      "Excluded:\n",
      "['Set3_Mystic_1.4', 'StarGuardian_1.0', 'Paragon_1.0', 'Set3_Sorcerer_0.6', 'Set3_Celestial_0.5', 'DarkStar_0.5', 'Protector_0.5', 'Rebel_0.4', 'Starship_0.4', 'Battlecast_0.4', 'Blaster_0.1', 'Chrono_0.1', 'Demolitionist_0.1', 'Infiltrator_0.1', 'MechPilot_0.1', 'Mercenary_0.1', 'Sniper_0.1']\n",
      "Playrate:  0.07 %\n",
      "-------------------------------------------------------------------------\n",
      "['Set3_Sorcerer_2.6', 'StarGuardian_1.0', 'Chrono_0.6', 'Paragon_0.4', 'MechPilot_0.3', 'Infiltrator_0.2', 'Set3_Mystic_0.2', 'DarkStar_0.1', 'Mercenary_0.1', 'Vanguard_0.1', 'Battlecast_0.1']\n",
      "Playrate:  14.03 %\n",
      "Average placement:  4.53\n",
      "Average placement with 0, 1, 2 contesters:  4.37 4.61 4.63\n",
      "Winrate:  11.77 %\n",
      "Winrate with 0, 1, 2 contesters:  13.37 % 11.62 % 9.76 %\n",
      "-------------------------------------------------------------------------\n",
      "['Protector_1.9', 'Set3_Celestial_1.2', 'Set3_Mystic_1.1', 'DarkStar_0.5', 'Battlecast_0.4', 'Starship_0.3', 'Chrono_0.2', 'Infiltrator_0.2', 'Sniper_0.2', 'Set3_Blademaster_0.1', 'StarGuardian_0.1', 'Paragon_0.1']\n",
      "Playrate:  3.33 %\n",
      "Average placement:  4.99\n",
      "Average placement with 0, 1, 2 contesters:  4.95 5.19 4.83\n",
      "Winrate:  10.61 %\n",
      "Winrate with 0, 1, 2 contesters:  10.67 % 10.0 % 16.67 %\n",
      "-------------------------------------------------------------------------\n",
      "['Vanguard_1.6', 'Set3_Mystic_1.3', 'DarkStar_0.8', 'Chrono_0.6', 'Sniper_0.5', 'Astro_0.4', 'Set3_Celestial_0.2', 'Set3_Brawler_0.1', 'Battlecast_0.1', 'Paragon_0.1']\n",
      "Playrate:  21.79 %\n",
      "Average placement:  4.59\n",
      "Average placement with 0, 1, 2 contesters:  4.26 4.61 4.74\n",
      "Winrate:  10.97 %\n",
      "Winrate with 0, 1, 2 contesters:  14.92 % 10.37 % 9.62 %\n",
      "-------------------------------------------------------------------------\n",
      "['Set3_Blademaster_1.9', 'Chrono_1.0', 'Rebel_1.0', 'Infiltrator_0.6', 'Set3_Celestial_0.2', 'Cybernetic_0.1', 'ManaReaver_0.1', 'Starship_0.1']\n",
      "Playrate:  6.82 %\n",
      "Average placement:  4.53\n",
      "Average placement with 0, 1, 2 contesters:  4.35 5.14 4.94\n",
      "Winrate:  19.2 %\n",
      "Winrate with 0, 1, 2 contesters:  21.93 % 10.07 % 16.67 %\n",
      "-------------------------------------------------------------------------\n",
      "['Battlecast_1.8', 'Set3_Brawler_1.2', 'Set3_Mystic_0.6', 'Blaster_0.5', 'Chrono_0.4', 'Infiltrator_0.4', 'Set3_Celestial_0.1', 'DarkStar_0.1', 'Protector_0.1', 'Sniper_0.1', 'Astro_0.1']\n",
      "Playrate:  0.38 %\n",
      "Average placement:  5.25\n",
      "Average placement with 0, 1, 2 contesters:  5.3 5.0 4.33\n",
      "Winrate:  7.04 %\n",
      "Winrate with 0, 1, 2 contesters:  6.06 % 0.0 % 33.33 %\n",
      "-------------------------------------------------------------------------\n",
      "Excluded:\n",
      "['Mercenary_1.0', 'Set3_Sorcerer_1.0', 'Battlecast_1.0', 'Blaster_0.6', 'Chrono_0.6', 'Demolitionist_0.6', 'Protector_0.6', 'Set3_Brawler_0.2', 'MechPilot_0.2', 'SpacePirate_0.2', 'Vanguard_0.2']\n",
      "Playrate:  0.03 %\n",
      "-------------------------------------------------------------------------\n",
      "['SpacePirate_1.6', 'Vanguard_1.0', 'Mercenary_0.9', 'Chrono_0.8', 'Blaster_0.7', 'Demolitionist_0.5', 'ManaReaver_0.4', 'Rebel_0.4', 'Starship_0.2', 'Set3_Brawler_0.1', 'Set3_Mystic_0.1', 'Astro_0.1']\n",
      "Playrate:  0.22 %\n",
      "Average placement:  5.24\n",
      "Average placement with 0, 1, 2 contesters:  5.23 5.5 nan\n",
      "Winrate:  9.76 %\n",
      "Winrate with 0, 1, 2 contesters:  10.26 % 0.0 % 0 %\n",
      "-------------------------------------------------------------------------\n"
     ]
    }
   ],
   "source": [
    "for k,v in comp_stats.items():\n",
    "    if v['playrate'] > 0.001:\n",
    "        print(v['name'])\n",
    "        print('Playrate: ', round(v['playrate']*100, 2), '%')\n",
    "        print('Average placement: ', round(v['average_placement'], 2))\n",
    "        print('Average placement with 0, 1, 2 contesters: ', \n",
    "              round(v['average_placement_1'], 2), \n",
    "              round(v['average_placement_2'], 2), \n",
    "              round(v['average_placement_3'], 2))\n",
    "        print('Winrate: ', round(v['winrate']*100, 2), '%')\n",
    "        print('Winrate with 0, 1, 2 contesters: ', \n",
    "              round(v['winrate_1']*100, 2), '%', \n",
    "              round(v['winrate_2']*100, 2), '%', \n",
    "              round(v['winrate_3']*100, 2), '%')\n",
    "        print('-------------------------------------------------------------------------')\n",
    "    else:\n",
    "        print('Excluded:')\n",
    "        print(v['name'])\n",
    "        print('Playrate: ', round(v['playrate']*100, 2), '%')\n",
    "        print('-------------------------------------------------------------------------')\n"
   ]
  },
  {
   "cell_type": "code",
   "execution_count": 13,
   "metadata": {},
   "outputs": [
    {
     "data": {
      "text/plain": [
       "1597"
      ]
     },
     "execution_count": 13,
     "metadata": {},
     "output_type": "execute_result"
    }
   ],
   "source": [
    "len(match_data_json)"
   ]
  },
  {
   "cell_type": "code",
   "execution_count": null,
   "metadata": {},
   "outputs": [],
   "source": []
  }
 ],
 "metadata": {
  "kernelspec": {
   "display_name": "Python 3",
   "language": "python",
   "name": "python3"
  },
  "language_info": {
   "codemirror_mode": {
    "name": "ipython",
    "version": 3
   },
   "file_extension": ".py",
   "mimetype": "text/x-python",
   "name": "python",
   "nbconvert_exporter": "python",
   "pygments_lexer": "ipython3",
   "version": "3.7.4"
  }
 },
 "nbformat": 4,
 "nbformat_minor": 4
}
