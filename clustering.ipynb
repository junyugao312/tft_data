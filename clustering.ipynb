{
 "cells": [
  {
   "cell_type": "code",
   "execution_count": null,
   "metadata": {},
   "outputs": [],
   "source": [
    "# To group the endgame data into comps based on synergies and champions used\n",
    "# Attempt to use HAC "
   ]
  },
  {
   "cell_type": "code",
   "execution_count": 1,
   "metadata": {},
   "outputs": [],
   "source": [
    "import json"
   ]
  },
  {
   "cell_type": "code",
   "execution_count": 4,
   "metadata": {},
   "outputs": [],
   "source": [
    "with open('match_data/match_data_challenger_euw_10.11_300520.txt') as json_file:\n",
    "    match_data_json = json.load(json_file)"
   ]
  },
  {
   "cell_type": "code",
   "execution_count": 60,
   "metadata": {},
   "outputs": [],
   "source": [
    "def get_traits(participant: dict):\n",
    "    traits_list = participant['traits']\n",
    "    traits = []\n",
    "    for i in traits_list:\n",
    "        for j in range(i['tier_current']):\n",
    "            traits.append(i['name'] + '_' + str(j+1))            \n",
    "    return set(traits)\n"
   ]
  },
  {
   "cell_type": "code",
   "execution_count": 61,
   "metadata": {},
   "outputs": [],
   "source": [
    "traits_data = []\n",
    "for i in match_data_json:\n",
    "    for j in i['info']['participants']:\n",
    "        traits_data.append(get_traits(j))\n",
    "\n",
    "traits_count_dict = {}\n",
    "for i in traits_data:\n",
    "    i_str = ' '.join(i)\n",
    "    traits_count_dict[i_str] = traits_count_dict.get(i_str, 0) + 1\n",
    "\n",
    "traits_count_list = [[k,v] for k, v in sorted(traits_count_dict.items(), key=lambda item: item[1], reverse=True)]\n",
    "\n",
    "print(traits_count_list[0:20])"
   ]
  },
  {
   "cell_type": "code",
   "execution_count": 75,
   "metadata": {},
   "outputs": [
    {
     "data": {
      "text/plain": [
       "{'Blaster_1',\n",
       " 'Demolitionist_1',\n",
       " 'Mercenary_1',\n",
       " 'Rebel_1',\n",
       " 'Rebel_2',\n",
       " 'Set3_Mystic_1',\n",
       " 'SpacePirate_1'}"
      ]
     },
     "execution_count": 75,
     "metadata": {},
     "output_type": "execute_result"
    }
   ],
   "source": [
    "traits_data[0]\n"
   ]
  },
  {
   "cell_type": "code",
   "execution_count": 76,
   "metadata": {},
   "outputs": [
    {
     "data": {
      "text/plain": [
       "{'Blaster_1',\n",
       " 'Blaster_2',\n",
       " 'Chrono_1',\n",
       " 'Mercenary_1',\n",
       " 'Rebel_1',\n",
       " 'Set3_Brawler_1',\n",
       " 'Set3_Brawler_2',\n",
       " 'Starship_1'}"
      ]
     },
     "execution_count": 76,
     "metadata": {},
     "output_type": "execute_result"
    }
   ],
   "source": [
    "traits_data[5]"
   ]
  },
  {
   "cell_type": "code",
   "execution_count": 79,
   "metadata": {},
   "outputs": [
    {
     "data": {
      "text/plain": [
       "0.25"
      ]
     },
     "execution_count": 79,
     "metadata": {},
     "output_type": "execute_result"
    }
   ],
   "source": [
    "similarity(traits_data[0], traits_data[5])"
   ]
  },
  {
   "cell_type": "code",
   "execution_count": 78,
   "metadata": {},
   "outputs": [],
   "source": [
    "def similarity(a: set, b: set):\n",
    "    return len(a.intersection(b))/len(a.union(b))"
   ]
  },
  {
   "cell_type": "code",
   "execution_count": null,
   "metadata": {},
   "outputs": [],
   "source": []
  }
 ],
 "metadata": {
  "kernelspec": {
   "display_name": "Python 3",
   "language": "python",
   "name": "python3"
  },
  "language_info": {
   "codemirror_mode": {
    "name": "ipython",
    "version": 3
   },
   "file_extension": ".py",
   "mimetype": "text/x-python",
   "name": "python",
   "nbconvert_exporter": "python",
   "pygments_lexer": "ipython3",
   "version": "3.7.4"
  }
 },
 "nbformat": 4,
 "nbformat_minor": 4
}
