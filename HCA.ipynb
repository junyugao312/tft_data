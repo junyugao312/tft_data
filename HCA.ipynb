{
 "cells": [
  {
   "cell_type": "code",
   "execution_count": 76,
   "metadata": {},
   "outputs": [],
   "source": [
    "import json\n",
    "import numpy as np\n",
    "import sklearn\n",
    "import matplotlib.pyplot as plt\n",
    "\n",
    "from scipy.cluster.hierarchy import dendrogram\n",
    "from sklearn.cluster import AgglomerativeClustering\n",
    "from sklearn import metrics"
   ]
  },
  {
   "cell_type": "code",
   "execution_count": 78,
   "metadata": {},
   "outputs": [],
   "source": [
    "# Load match data\n",
    "data_file_name = 'match_data/match_data_challenger_euw1_10.11_030620.txt'\n",
    "with open(data_file_name) as json_file:\n",
    "    match_data_json = json.load(json_file)\n",
    "\n",
    "# Load traits dictionary\n",
    "with open('set3/traits.json') as json_file:\n",
    "    ref_traits_json = json.load(json_file)\n",
    "ref_traits_index_dict = {ref_traits_json[i]['key']:i for i in range(len(ref_traits_json))}"
   ]
  },
  {
   "cell_type": "code",
   "execution_count": 79,
   "metadata": {},
   "outputs": [],
   "source": [
    "# Transform traits data into vectors\n",
    "\n",
    "def get_traits_as_vector(participant: dict):\n",
    "    traits_list = participant['traits']\n",
    "    traits = np.zeros(23)\n",
    "    for i in traits_list:\n",
    "        if i['name'] != 'TemplateTrait':\n",
    "            traits[ref_traits_index_dict[i['name']]] = i['tier_current']\n",
    "    return traits\n",
    "\n",
    "traits_data_vectors = []\n",
    "for i in match_data_json:\n",
    "    for j in i['info']['participants']:\n",
    "        traits_data_vectors.append(get_traits_as_vector(j))\n",
    "traits_data_vectors = np.array(traits_data_vectors)"
   ]
  },
  {
   "cell_type": "code",
   "execution_count": 109,
   "metadata": {},
   "outputs": [],
   "source": [
    "# Collect identical traits vectors to reduce input size into clustering\n",
    "# This step doesn't affect HCA, but would affect the outcome of ex. K-means, since I am removing multiple occurences\n",
    "\n",
    "unique_vectors_dict = {}\n",
    "index = 0\n",
    "for i in traits_data_vectors:\n",
    "    traits_str = ''.join([str(int(j)) for j in i])\n",
    "    if traits_str in unique_vectors_dict:\n",
    "        pass\n",
    "    else:\n",
    "        unique_vectors_dict[traits_str] = index\n",
    "        index += 1\n",
    "\n",
    "traits_data_vectors_unique = []\n",
    "for i in list(unique_vectors_dict.keys()):\n",
    "    traits_data_vectors_unique.append([float(j) for j in list(i)])\n",
    "traits_data_vectors_unique = np.array(traits_data_vectors_unique)\n",
    "\n",
    "unique_to_original_mapping = []\n",
    "for i in traits_data_vectors:\n",
    "    traits_str = ''.join([str(int(j)) for j in i])\n",
    "    unique_to_original_mapping.append(unique_vectors_dict[traits_str])"
   ]
  },
  {
   "cell_type": "code",
   "execution_count": 154,
   "metadata": {},
   "outputs": [
    {
     "data": {
      "image/png": "[encoded data removed]",
      "text/plain": [
       "<Figure size 864x576 with 1 Axes>"
      ]
     },
     "metadata": {
      "needs_background": "light"
     },
     "output_type": "display_data"
    }
   ],
   "source": [
    "# Building an Agglomerative HC model\n",
    "\n",
    "def plot_dendrogram(model, **kwargs):\n",
    "\n",
    "    # Children of hierarchical clustering\n",
    "    children = model.children_\n",
    "\n",
    "    # Distances between each pair of children\n",
    "    # Since we don't have this information, we can use a uniform one for plotting\n",
    "    distance = np.arange(children.shape[0])\n",
    "\n",
    "    # The number of observations contained in each cluster level\n",
    "    no_of_observations = np.arange(2, children.shape[0]+2)\n",
    "\n",
    "    # Create linkage matrix and then plot the dendrogram\n",
    "    linkage_matrix = np.column_stack([children, distance, no_of_observations]).astype(float)\n",
    "\n",
    "    # Plot the corresponding dendrogram\n",
    "    dendrogram(linkage_matrix, **kwargs)\n",
    "\n",
    "def HCA_label_matrix(model):\n",
    "    children = model.children_\n",
    "    n = model.n_leaves_\n",
    "    label_matrix = np.zeros((n, n))\n",
    "    label_matrix[0] = np.arange(n)\n",
    "    for i in range(1,n):\n",
    "        label_matrix[i] = label_matrix[i-1]\n",
    "        merging_clusters = children[i-1]\n",
    "        for j in range(n):\n",
    "            if label_matrix[i][j] == merging_clusters[0] or label_matrix[i][j] == merging_clusters[1]:\n",
    "                label_matrix[i][j] = i+n-1\n",
    "    return label_matrix\n",
    "\n",
    "HC_model = AgglomerativeClustering(affinity='l1', linkage='average').fit(traits_data_vectors_unique)\n",
    "label_matrix = HCA_label_matrix(HC_model)\n",
    "\n",
    "# Transform label matrix back to labels for original data\n",
    "label_matrix_original = np.zeros((len(traits_data_vectors_unique), len(traits_data_vectors)))\n",
    "for i in range(len(traits_data_vectors_unique)):\n",
    "    label_matrix_original[i] = [label_matrix[i][j] for j in unique_to_original_mapping]\n",
    "\n",
    "# Plots 10 clusters colored by default\n",
    "plt.figure(figsize=(12,8))\n",
    "plt.title('Hierarchical Clustering Dendrogram')\n",
    "plot_dendrogram(HC_model, truncate_mode='level', p=5, color_threshold=HC_model.n_leaves_-10)\n",
    "plt.ylim(HC_model.n_leaves_ - 100, HC_model.n_leaves_ + 30)\n",
    "plt.show()"
   ]
  },
  {
   "cell_type": "code",
   "execution_count": 138,
   "metadata": {},
   "outputs": [],
   "source": [
    "# Choosing the optimal number of clusters based on silhouette score\n",
    "\n",
    "n_range = 30\n",
    "n_clusters = range(2,n_range+1)\n",
    "n_silhouette_score = []\n",
    "for i in n_clusters:\n",
    "    n_silhouette_score.append(metrics.silhouette_score(traits_data_vectors, label_matrix_original[len(label_matrix_original)-i], metric='l1'))\n",
    "\n",
    "plt.figure(figsize=(10,6))\n",
    "plt.xticks(range(2, n_range+1))\n",
    "plt.scatter(n_clusters, n_silhouette_score)\n",
    "plt.axvline(x=n_clusters[n_silhouette_score.index(max(n_silhouette_score))], color='r')\n",
    "#plt.axvline(x=10, color='g')\n",
    "\n",
    "# The maximum score is shown in red line. Either choose this point or choose another graphically. "
   ]
  },
  {
   "cell_type": "code",
   "execution_count": 144,
   "metadata": {},
   "outputs": [],
   "source": [
    "# Compute cluster means\n",
    "\n",
    "def traits_vector_to_text(v, rounding=1):\n",
    "    v = np.round(v,1)\n",
    "    trait_names = list(ref_traits_index_dict.keys())\n",
    "    v_text = []\n",
    "    for i in range(len(v)):\n",
    "        if v[i] > 0:\n",
    "            v_text.append((trait_names[i], v[i]))\n",
    "    v_text.sort(key=lambda tup: tup[1], reverse=True)\n",
    "    v_text = [i[0] + '_' + str(i[1]) for i in v_text]\n",
    "    return v_text\n",
    "\n",
    "#Input the optimal n_cluster here\n",
    "n_cluster = 11\n",
    "labels = label_matrix_original[len(label_matrix_original)-n_cluster]\n",
    "cluster_id = set(labels)\n",
    "cluster_means_dict = {}\n",
    "for i in cluster_id:\n",
    "    traits_in_cluster = []\n",
    "    for j in range(len(labels)):\n",
    "        if labels[j] == i:\n",
    "            traits_in_cluster.append(traits_data_vectors[j])\n",
    "    traits_in_cluster = np.array(traits_in_cluster)\n",
    "    cluster_mean = np.mean(traits_in_cluster, axis=0)\n",
    "    cluster_means_dict[i] = traits_vector_to_text(cluster_mean)\n",
    "    #print(traits_vector_to_text(cluster_mean))    "
   ]
  },
  {
   "cell_type": "code",
   "execution_count": 145,
   "metadata": {},
   "outputs": [],
   "source": [
    "# Adding comp id to the data and saving it\n",
    "k = 0\n",
    "for i in range(len(match_data_json)):\n",
    "    for j in range(8):\n",
    "        match_data_json[i]['info']['participants'][j]['comp'] = labels[k]\n",
    "        k += 1\n",
    "\n",
    "with open(data_file_name, 'w') as json_file:\n",
    "    json.dump(match_data_json, json_file)\n",
    "\n",
    "with open(data_file_name[:-4] + '_comp.txt', 'w') as json_file:\n",
    "    json.dump(cluster_means_dict, json_file)"
   ]
  }
 ],
 "metadata": {
  "kernelspec": {
   "display_name": "Python 3",
   "language": "python",
   "name": "python3"
  },
  "language_info": {
   "codemirror_mode": {
    "name": "ipython",
    "version": 3
   },
   "file_extension": ".py",
   "mimetype": "text/x-python",
   "name": "python",
   "nbconvert_exporter": "python",
   "pygments_lexer": "ipython3",
   "version": "3.7.4"
  }
 },
 "nbformat": 4,
 "nbformat_minor": 4
}
