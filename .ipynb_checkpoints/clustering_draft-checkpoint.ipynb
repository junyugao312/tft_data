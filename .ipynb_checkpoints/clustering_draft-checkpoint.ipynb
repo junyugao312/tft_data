{
 "cells": [
  {
   "cell_type": "code",
   "execution_count": null,
   "metadata": {},
   "outputs": [],
   "source": [
    "# To group the endgame data into comps based on synergies and champions used\n",
    "# Attempt to use HAC "
   ]
  },
  {
   "cell_type": "code",
   "execution_count": 214,
   "metadata": {},
   "outputs": [],
   "source": [
    "import json\n",
    "import numpy as np\n",
    "import sklearn\n",
    "import matplotlib.pyplot as plt\n"
   ]
  },
  {
   "cell_type": "code",
   "execution_count": 4,
   "metadata": {},
   "outputs": [],
   "source": [
    "with open('match_data/match_data_challenger_euw_10.11_300520.txt') as json_file:\n",
    "    match_data_json = json.load(json_file)"
   ]
  },
  {
   "cell_type": "code",
   "execution_count": 119,
   "metadata": {},
   "outputs": [],
   "source": [
    "# Modelling each participant's traits as sets\n",
    "def get_traits_set(participant: dict):\n",
    "    traits_list = participant['traits']\n",
    "    traits = []\n",
    "    for i in traits_list:\n",
    "        for j in range(i['tier_current']):\n",
    "            traits.append(i['name'] + '_' + str(j+1))            \n",
    "    return set(traits)\n",
    "\n",
    "\n",
    "traits_data = []\n",
    "for i in match_data_json:\n",
    "    for j in i['info']['participants']:\n",
    "        traits_data.append(get_traits_set(j))\n",
    "\n",
    "traits_count_dict = {}\n",
    "for i in traits_data:\n",
    "    i_str = ' '.join(i)\n",
    "    traits_count_dict[i_str] = traits_count_dict.get(i_str, 0) + 1\n",
    "\n",
    "traits_count_list = [[k,v] for k, v in sorted(traits_count_dict.items(), key=lambda item: item[1], reverse=True)]\n",
    "\n",
    "#traits_count_list[0:100]"
   ]
  },
  {
   "cell_type": "code",
   "execution_count": 78,
   "metadata": {},
   "outputs": [],
   "source": [
    "def similarity(a: set, b: set):\n",
    "    return len(a.intersection(b))/len(a.union(b))"
   ]
  },
  {
   "cell_type": "code",
   "execution_count": 84,
   "metadata": {},
   "outputs": [],
   "source": [
    "def abs_distance(a: set, b: set):\n",
    "    return len(a.symmetric_difference(b))"
   ]
  },
  {
   "cell_type": "code",
   "execution_count": 112,
   "metadata": {},
   "outputs": [],
   "source": [
    "for i in range(len(traits_count_list)):\n",
    "    for j in range(i+1, len(traits_count_list)):\n",
    "        if abs_distance(set(traits_count_list[i][0].split()), set(traits_count_list[j][0].split())) == 0:\n",
    "            print(traits_count_list[i])\n",
    "            print(traits_count_list[j])"
   ]
  },
  {
   "cell_type": "code",
   "execution_count": 149,
   "metadata": {},
   "outputs": [],
   "source": [
    "# Modelling each participant's traits as vectors\n",
    "with open('set3/traits.json') as json_file:\n",
    "    ref_traits_json = json.load(json_file)\n",
    "\n",
    "ref_traits_index_dict = {ref_traits_json[i]['key']:i for i in range(len(ref_traits_json))}\n",
    "\n",
    "def get_traits_vector(participant: dict):\n",
    "    traits_list = participant['traits']\n",
    "    traits = np.zeros(23)\n",
    "    for i in traits_list:\n",
    "        if i['name'] != 'TemplateTrait':\n",
    "            traits[ref_traits_index_dict[i['name']]] = i['tier_current']\n",
    "    return traits\n",
    "\n",
    "traits_data_vectors = []\n",
    "for i in match_data_json:\n",
    "    for j in i['info']['participants']:\n",
    "        traits_data_vectors.append(get_traits_vector(j))\n",
    "traits_data_vectors = np.array(traits_data_vectors)\n"
   ]
  },
  {
   "cell_type": "code",
   "execution_count": 173,
   "metadata": {},
   "outputs": [],
   "source": [
    "def traits_vector_totext(v, rounding=1):\n",
    "    v = np.round(v,1)\n",
    "    trait_names = list(ref_traits_index_dict.keys())\n",
    "    v_text = []\n",
    "    for i in range(len(v)):\n",
    "        if v[i] > 0:\n",
    "            v_text.append(trait_names[i]+'_'+str(v[i]))\n",
    "    return v_text"
   ]
  },
  {
   "cell_type": "code",
   "execution_count": 365,
   "metadata": {},
   "outputs": [
    {
     "data": {
      "image/png": "[encoded data removed]",
      "text/plain": [
       "<Figure size 432x288 with 1 Axes>"
      ]
     },
     "metadata": {
      "needs_background": "light"
     },
     "output_type": "display_data"
    }
   ],
   "source": [
    "# \n",
    "kmeans_ss = []\n",
    "for i in range(1, 20):\n",
    "    kmeans = sklearn.cluster.KMeans(n_clusters=i).fit(traits_data_vectors)\n",
    "    kmeans_ss.append(kmeans.inertia_)\n",
    "\n",
    "kmeans_ss_diff = [kmeans_ss[i+1]-kmeans_ss[i] for i in range(len(kmeans_ss)-1)]\n",
    "plt.plot(range(1, 19), kmeans_ss_diff)\n",
    "\n",
    "kmeans = sklearn.cluster.KMeans(n_clusters=15).fit(traits_data_vectors)\n",
    "\n",
    "#list(map(traits_vector_totext, kmeans.cluster_centers_))"
   ]
  },
  {
   "cell_type": "code",
   "execution_count": 314,
   "metadata": {},
   "outputs": [],
   "source": [
    "clustering = sklearn.cluster.AgglomerativeClustering(affinity='l1', linkage='average').fit(traits_data_vectors)"
   ]
  },
  {
   "cell_type": "code",
   "execution_count": 258,
   "metadata": {},
   "outputs": [
    {
     "data": {
      "text/plain": [
       "3056"
      ]
     },
     "execution_count": 258,
     "metadata": {},
     "output_type": "execute_result"
    }
   ],
   "source": [
    "len(traits_data_vectors)"
   ]
  },
  {
   "cell_type": "code",
   "execution_count": 261,
   "metadata": {},
   "outputs": [
    {
     "data": {
      "text/plain": [
       "array([[   0,  188],\n",
       "       [   1,   24],\n",
       "       [   2,   78],\n",
       "       [1734, 2362],\n",
       "       [  44, 2674],\n",
       "       [ 399, 2279],\n",
       "       [ 473, 1134],\n",
       "       [2231, 3062],\n",
       "       [3013, 3063],\n",
       "       [  29,  258]])"
      ]
     },
     "execution_count": 261,
     "metadata": {},
     "output_type": "execute_result"
    }
   ],
   "source": [
    "clustering.children_[0:10]"
   ]
  },
  {
   "cell_type": "code",
   "execution_count": 254,
   "metadata": {},
   "outputs": [
    {
     "data": {
      "image/png": "[encoded data removed]",
      "text/plain": [
       "<Figure size 864x576 with 1 Axes>"
      ]
     },
     "metadata": {
      "needs_background": "light"
     },
     "output_type": "display_data"
    }
   ],
   "source": [
    "from scipy.cluster.hierarchy import dendrogram\n",
    "from sklearn.cluster import AgglomerativeClustering\n",
    "\n",
    "def plot_dendrogram(model, **kwargs):\n",
    "\n",
    "    # Children of hierarchical clustering\n",
    "    children = model.children_\n",
    "\n",
    "    # Distances between each pair of children\n",
    "    # Since we don't have this information, we can use a uniform one for plotting\n",
    "    distance = np.arange(children.shape[0])\n",
    "\n",
    "    # The number of observations contained in each cluster level\n",
    "    no_of_observations = np.arange(2, children.shape[0]+2)\n",
    "\n",
    "    # Create linkage matrix and then plot the dendrogram\n",
    "    linkage_matrix = np.column_stack([children, distance, no_of_observations]).astype(float)\n",
    "\n",
    "    # Plot the corresponding dendrogram\n",
    "    dendrogram(linkage_matrix, **kwargs)\n",
    "\n",
    "plt.figure(figsize=(12,8))\n",
    "plt.title('Hierarchical Clustering Dendrogram')\n",
    "plot_dendrogram(clustering, truncate_mode='level', p=5, color_threshold=3047)\n",
    "plt.ylim(2900, 3100)\n",
    "plt.show()"
   ]
  },
  {
   "cell_type": "code",
   "execution_count": 412,
   "metadata": {},
   "outputs": [
    {
     "data": {
      "image/png": "[encoded data removed]",
      "text/plain": [
       "<Figure size 864x576 with 1 Axes>"
      ]
     },
     "metadata": {
      "needs_background": "light"
     },
     "output_type": "display_data"
    }
   ],
   "source": [
    "clustering = sklearn.cluster.AgglomerativeClustering(n_clusters=15, affinity='l1', linkage='average').fit(traits_data_vectors)\n",
    "\n",
    "plt.figure(figsize=(12,8))\n",
    "plt.title('Hierarchical Clustering Dendrogram')\n",
    "plot_dendrogram(clustering, truncate_mode='level', p=5, color_threshold=3041)\n",
    "plt.ylim(2900, 3100)\n",
    "plt.show()"
   ]
  },
  {
   "cell_type": "code",
   "execution_count": 403,
   "metadata": {},
   "outputs": [
    {
     "data": {
      "text/plain": [
       "array([0, 0, 0, ..., 1, 1, 0])"
      ]
     },
     "execution_count": 403,
     "metadata": {},
     "output_type": "execute_result"
    }
   ],
   "source": [
    "clustering.labels_"
   ]
  },
  {
   "cell_type": "code",
   "execution_count": 312,
   "metadata": {},
   "outputs": [],
   "source": [
    "def HCA_label_matrix(model):\n",
    "    children = model.children_\n",
    "    n = model.n_leaves_\n",
    "    label_matrix = np.zeros((n, n))\n",
    "    label_matrix[0] = np.arange(n)\n",
    "    for i in range(1,n):\n",
    "        label_matrix[i] = label_matrix[i-1]\n",
    "        merging_clusters = children[i-1]\n",
    "        for j in range(n):\n",
    "            if label_matrix[i][j] == merging_clusters[0] or label_matrix[i][j] == merging_clusters[1]:\n",
    "                label_matrix[i][j] = i+n-1\n",
    "    return label_matrix"
   ]
  },
  {
   "cell_type": "code",
   "execution_count": 315,
   "metadata": {},
   "outputs": [],
   "source": [
    "a = HCA_label_matrix(clustering)"
   ]
  },
  {
   "cell_type": "code",
   "execution_count": 320,
   "metadata": {},
   "outputs": [
    {
     "data": {
      "text/plain": [
       "array([3056., 3652., 3768., ..., 3053., 3054., 3055.])"
      ]
     },
     "execution_count": 320,
     "metadata": {},
     "output_type": "execute_result"
    }
   ],
   "source": [
    "a[1000]"
   ]
  },
  {
   "cell_type": "code",
   "execution_count": 401,
   "metadata": {},
   "outputs": [],
   "source": [
    "from sklearn import metrics\n",
    "\n",
    "n_range = 30\n",
    "n_clusters = range(2,n_range+1)\n",
    "n_silhouette_score = []\n",
    "for i in n_clusters:\n",
    "    n_silhouette_score.append(metrics.silhouette_score(traits_data_vectors, a[len(a)-i], metric='l1'))"
   ]
  },
  {
   "cell_type": "code",
   "execution_count": 402,
   "metadata": {},
   "outputs": [
    {
     "data": {
      "text/plain": [
       "<matplotlib.lines.Line2D at 0x1a2036a550>"
      ]
     },
     "execution_count": 402,
     "metadata": {},
     "output_type": "execute_result"
    },
    {
     "data": {
      "image/png": "[encoded data removed]",
      "text/plain": [
       "<Figure size 864x576 with 1 Axes>"
      ]
     },
     "metadata": {
      "needs_background": "light"
     },
     "output_type": "display_data"
    }
   ],
   "source": [
    "plt.figure(figsize=(12,8))\n",
    "plt.xticks(range(2, n_range+1))\n",
    "plt.scatter(n_clusters, n_silhouette_score)\n",
    "plt.axvline(x=n_clusters[n_silhouette_score.index(max(n_silhouette_score))], color='r')"
   ]
  }
 ],
 "metadata": {
  "kernelspec": {
   "display_name": "Python 3",
   "language": "python",
   "name": "python3"
  },
  "language_info": {
   "codemirror_mode": {
    "name": "ipython",
    "version": 3
   },
   "file_extension": ".py",
   "mimetype": "text/x-python",
   "name": "python",
   "nbconvert_exporter": "python",
   "pygments_lexer": "ipython3",
   "version": "3.7.4"
  }
 },
 "nbformat": 4,
 "nbformat_minor": 4
}
