{
 "cells": [
  {
   "cell_type": "code",
   "execution_count": 1,
   "metadata": {},
   "outputs": [],
   "source": [
    "import pandas as pd\n",
    "import requests\n",
    "import numpy as np\n",
    "\n",
    "from datetime import datetime\n",
    "import json\n",
    "import time"
   ]
  },
  {
   "cell_type": "code",
   "execution_count": 2,
   "metadata": {},
   "outputs": [],
   "source": [
    "def request_wrapper(API_address, printing=False):\n",
    "    if printing:\n",
    "        print('API request: ' + API_address)\n",
    "    fail_count = 0\n",
    "    response = requests.get(API_address)\n",
    "    while response.status_code != 200:\n",
    "        print(\"API request ERROR: \", requests.status_codes._codes[response.status_code][0], API_address)\n",
    "        fail_count += 1\n",
    "        if fail_count >= 5:\n",
    "            raise SystemExit(\"ERROR: API request failed 5 times in a row.\")\n",
    "        if response.status_code == 429:\n",
    "            wait_time = float(response.headers['Retry-After'])\n",
    "            print(\"WARNING: Rate Limit Exceeded...retrying request after {} seconds\".format(wait_time))\n",
    "            time.sleep(wait_time)\n",
    "        response = requests.get(API_address)\n",
    "    return response"
   ]
  },
  {
   "cell_type": "code",
   "execution_count": 3,
   "metadata": {},
   "outputs": [],
   "source": [
    "# Enter your own API key here\n",
    "# my API Key, Expires: Sat, May 30th, 2020 @ 9:53am (PT) in 23 hours and 59 minutes\n",
    "API_key = \"RGAPI-c53f1c4e-782c-431e-a236-2f5cb667d2a4\"\n",
    "API_key_suffix = '?api_key=' + API_key\n",
    "\n",
    "regions = ['br1', 'eun1', 'euw1', 'jp1', 'kr', 'la1', 'la2', 'na1', 'oc1', 'tr1', 'ru']\n",
    "regions_dict = {'br1':'americas',\n",
    "                'eun1':'europe',\n",
    "                'euw1':'europe',\n",
    "                'jp1':'asia',\n",
    "                'kr':'asia',\n",
    "                'la1':'americas',\n",
    "                'la2':'americas',\n",
    "                'na1':'americas',\n",
    "                'oc1':'americas',\n",
    "                'tr1':'europe',\n",
    "                'ru':'europe'\n",
    "               }"
   ]
  },
  {
   "cell_type": "code",
   "execution_count": 17,
   "metadata": {},
   "outputs": [],
   "source": [
    "def get_summonerId_list(n_summonerId = 1000, region = 'euw1', patch = '10.11'):\n",
    "    summonerId_list = []\n",
    "    for league in ['challenger', 'grandmaster', 'master']:\n",
    "        try:\n",
    "            API_address_league = 'https://' + region + '.api.riotgames.com/tft/league/v1/' + league\n",
    "            response = request_wrapper(API_address_league + API_key_suffix)\n",
    "            summonerId_list = summonerId_list + [i['summonerId'] for i in response.json()['entries']]\n",
    "            #print(response.json()['entries'][0])\n",
    "            if len(summonerId_list) >= n_summonerId:\n",
    "                return summonerId_list[:n_summonerId]\n",
    "        except:\n",
    "            pass\n",
    "\n",
    "    for division in ['I', 'II', 'III', 'IV']:\n",
    "        for page in range(1,int(np.ceil(n_summonerId/205)+1)):\n",
    "            try:\n",
    "                league = 'entries/DIAMOND/' + division + '?page=' + str(int(page)) + '&'\n",
    "                API_address_league = 'https://' + region + '.api.riotgames.com/tft/league/v1/' + league\n",
    "                response = request_wrapper(API_address_league + API_key_suffix[1:])\n",
    "                summonerId_list = summonerId_list + [i['summonerId'] for i in response.json()]\n",
    "                #print(response.json()[0])\n",
    "                if len(summonerId_list) >= n_summonerId:\n",
    "                    return summonerId_list[:n_summonerId]\n",
    "            except:\n",
    "                pass\n",
    "    return summonerId_list[:n_summonerId]"
   ]
  },
  {
   "cell_type": "code",
   "execution_count": 18,
   "metadata": {},
   "outputs": [
    {
     "name": "stdout",
     "output_type": "stream",
     "text": [
      "API request ERROR:  too_many_requests https://euw1.api.riotgames.com/tft/league/v1/entries/DIAMOND/II?page=1&api_key=RGAPI-c53f1c4e-782c-431e-a236-2f5cb667d2a4\n",
      "WARNING: Rate Limit Exceeded...retrying request after 1.0 seconds\n",
      "API request ERROR:  too_many_requests https://euw1.api.riotgames.com/tft/league/v1/entries/DIAMOND/III?page=1&api_key=RGAPI-c53f1c4e-782c-431e-a236-2f5cb667d2a4\n",
      "WARNING: Rate Limit Exceeded...retrying request after 1.0 seconds\n"
     ]
    }
   ],
   "source": [
    "#Specify region and patch\n",
    "n_summonerId = 2000\n",
    "region = 'euw1'\n",
    "patch = '10.12'\n",
    "\n",
    "summonerId_list = get_summonerId_list(n_summonerId, region, patch)"
   ]
  },
  {
   "cell_type": "code",
   "execution_count": 20,
   "metadata": {},
   "outputs": [
    {
     "name": "stdout",
     "output_type": "stream",
     "text": [
      "API request ERROR:  too_many_requests https://euw1.api.riotgames.com/tft/summoner/v1/summoners/o0gFCoVHl80CTnH_9X7gwAvyKSZ0UwO6qmc_FNcuvBrFiyE?api_key=RGAPI-c53f1c4e-782c-431e-a236-2f5cb667d2a4\n",
      "WARNING: Rate Limit Exceeded...retrying request after 79.0 seconds\n",
      "API request ERROR:  too_many_requests https://euw1.api.riotgames.com/tft/summoner/v1/summoners/5nyiKVmOv4joIaJCYTSt8xaglMjrzdlpLCsA3CmBre7Dup0?api_key=RGAPI-c53f1c4e-782c-431e-a236-2f5cb667d2a4\n",
      "WARNING: Rate Limit Exceeded...retrying request after 99.0 seconds\n",
      "API request ERROR:  too_many_requests https://euw1.api.riotgames.com/tft/summoner/v1/summoners/g0oiQdTHxel7rsR50QO4jV8Bll2tTULKs2e11KkNGF2o13w?api_key=RGAPI-c53f1c4e-782c-431e-a236-2f5cb667d2a4\n",
      "WARNING: Rate Limit Exceeded...retrying request after 99.0 seconds\n",
      "API request ERROR:  too_many_requests https://euw1.api.riotgames.com/tft/summoner/v1/summoners/Vs2Wcq4V5A_ueqmK-_ghZEdqcjdtElzlfBvgEtsVMrB6ANU?api_key=RGAPI-c53f1c4e-782c-431e-a236-2f5cb667d2a4\n",
      "WARNING: Rate Limit Exceeded...retrying request after 99.0 seconds\n",
      "API request ERROR:  too_many_requests https://euw1.api.riotgames.com/tft/summoner/v1/summoners/tjFRe3ufVmazY7paPnj_RHQCY8yxJ4JULZwwq3ORgb7gbumT?api_key=RGAPI-c53f1c4e-782c-431e-a236-2f5cb667d2a4\n",
      "WARNING: Rate Limit Exceeded...retrying request after 101.0 seconds\n",
      "API request ERROR:  too_many_requests https://euw1.api.riotgames.com/tft/summoner/v1/summoners/ygERtHOLGtDe3YLN9W6PLajox9WL05NX0Dn8LkcVIcZr?api_key=RGAPI-c53f1c4e-782c-431e-a236-2f5cb667d2a4\n",
      "WARNING: Rate Limit Exceeded...retrying request after 99.0 seconds\n",
      "API request ERROR:  too_many_requests https://euw1.api.riotgames.com/tft/summoner/v1/summoners/jkvMuXhN0x5lQjgCpiOjnETrlhlZgqWTUUSVMGdhHdWIrQM?api_key=RGAPI-c53f1c4e-782c-431e-a236-2f5cb667d2a4\n",
      "WARNING: Rate Limit Exceeded...retrying request after 92.0 seconds\n"
     ]
    }
   ],
   "source": [
    "# Get puuid for each summonerId\n",
    "API_address_summoner = 'https://' + region + '.api.riotgames.com/tft/summoner/v1/summoners/'\n",
    "\n",
    "puuid_list = []\n",
    "for summonerId in summonerId_list:\n",
    "    response = request_wrapper(API_address_summoner + summonerId + API_key_suffix)\n",
    "    puuid_list.append(response.json()['puuid'])"
   ]
  },
  {
   "cell_type": "code",
   "execution_count": 21,
   "metadata": {},
   "outputs": [
    {
     "name": "stdout",
     "output_type": "stream",
     "text": [
      "API request ERROR:  too_many_requests https://europe.api.riotgames.com/tft/match/v1/matches/by-puuid/6_nFs5YHphamhI-v7LgXYUzDCjTs7KaiEcJLgviuTkNNj71HVLi-7RPiCS_9XYdpxIhIkcajafaiXw/ids?count=2&api_key=RGAPI-c53f1c4e-782c-431e-a236-2f5cb667d2a4\n",
      "WARNING: Rate Limit Exceeded...retrying request after 100.0 seconds\n",
      "API request ERROR:  too_many_requests https://europe.api.riotgames.com/tft/match/v1/matches/by-puuid/9rEgP4cwhOLXPdNgCXNgByJwOUlrqTJLx5qHPAUweTzmF32YPHnNA32j4t9VhEdxveEU5GEYS0dObg/ids?count=2&api_key=RGAPI-c53f1c4e-782c-431e-a236-2f5cb667d2a4\n",
      "WARNING: Rate Limit Exceeded...retrying request after 98.0 seconds\n",
      "API request ERROR:  too_many_requests https://europe.api.riotgames.com/tft/match/v1/matches/by-puuid/gWM0TFJOJP2zojuGG4bTLW8Va7oWqSXTLmLydVZaJWeoYRTR0HcLnG-00lztArA87OmoAWu65pioHg/ids?count=2&api_key=RGAPI-c53f1c4e-782c-431e-a236-2f5cb667d2a4\n",
      "WARNING: Rate Limit Exceeded...retrying request after 98.0 seconds\n",
      "API request ERROR:  too_many_requests https://europe.api.riotgames.com/tft/match/v1/matches/by-puuid/CWf8A0VjucENxjE84lyMSKgAkhqRaBoRpOA36P024mnOVZGKFtLwLsXkEyNoUVpV_5UtbIU3jk2drw/ids?count=2&api_key=RGAPI-c53f1c4e-782c-431e-a236-2f5cb667d2a4\n",
      "WARNING: Rate Limit Exceeded...retrying request after 100.0 seconds\n",
      "API request ERROR:  too_many_requests https://europe.api.riotgames.com/tft/match/v1/matches/by-puuid/JZx3M1JZVOxZ-VMEYPA-_kFJ1T-_Ajv5DLUusGuKtwq7L1wQss68lVm_pQglPi7Ikl7MIednkXm6Sg/ids?count=2&api_key=RGAPI-c53f1c4e-782c-431e-a236-2f5cb667d2a4\n",
      "WARNING: Rate Limit Exceeded...retrying request after 95.0 seconds\n",
      "API request ERROR:  too_many_requests https://europe.api.riotgames.com/tft/match/v1/matches/by-puuid/ADaYMcUEoLN-VTMDtb2_0skNa11b-tkBl9CqrtU4BSBhfAc6yTfItTvnRpRk3zQA2pcxmcvd9i1DRw/ids?count=2&api_key=RGAPI-c53f1c4e-782c-431e-a236-2f5cb667d2a4\n",
      "WARNING: Rate Limit Exceeded...retrying request after 100.0 seconds\n"
     ]
    }
   ],
   "source": [
    "# Get matchId for each puuid\n",
    "# Really annoying since you can't check which patch they were played on until the next step\n",
    "# Change count to change number of matches, change this depending on how long the patch has been out\n",
    "n_matches = 2\n",
    "API_address_matchId = 'https://' + regions_dict[region] + '.api.riotgames.com/tft/match/v1/matches/by-puuid/'\n",
    "\n",
    "matchId_list = []\n",
    "for puuid in puuid_list:\n",
    "    response = request_wrapper(API_address_matchId + puuid + '/ids?count={}&api_key='.format(n_matches) + API_key)\n",
    "    matchId_list += response.json()\n",
    "matchId_list = list(set(matchId_list))"
   ]
  },
  {
   "cell_type": "code",
   "execution_count": 22,
   "metadata": {},
   "outputs": [
    {
     "name": "stdout",
     "output_type": "stream",
     "text": [
      "API request ERROR:  too_many_requests https://europe.api.riotgames.com/tft/match/v1/matches/EUW1_4653229018?api_key=RGAPI-c53f1c4e-782c-431e-a236-2f5cb667d2a4\n",
      "WARNING: Rate Limit Exceeded...retrying request after 97.0 seconds\n",
      "API request ERROR:  too_many_requests https://europe.api.riotgames.com/tft/match/v1/matches/EUW1_4653126735?api_key=RGAPI-c53f1c4e-782c-431e-a236-2f5cb667d2a4\n",
      "WARNING: Rate Limit Exceeded...retrying request after 93.0 seconds\n",
      "API request ERROR:  too_many_requests https://europe.api.riotgames.com/tft/match/v1/matches/EUW1_4653214233?api_key=RGAPI-c53f1c4e-782c-431e-a236-2f5cb667d2a4\n",
      "WARNING: Rate Limit Exceeded...retrying request after 96.0 seconds\n",
      "API request ERROR:  too_many_requests https://europe.api.riotgames.com/tft/match/v1/matches/EUW1_4652984591?api_key=RGAPI-c53f1c4e-782c-431e-a236-2f5cb667d2a4\n",
      "WARNING: Rate Limit Exceeded...retrying request after 95.0 seconds\n",
      "API request ERROR:  too_many_requests https://europe.api.riotgames.com/tft/match/v1/matches/EUW1_4652970257?api_key=RGAPI-c53f1c4e-782c-431e-a236-2f5cb667d2a4\n",
      "WARNING: Rate Limit Exceeded...retrying request after 95.0 seconds\n",
      "API request ERROR:  too_many_requests https://europe.api.riotgames.com/tft/match/v1/matches/EUW1_4653302918?api_key=RGAPI-c53f1c4e-782c-431e-a236-2f5cb667d2a4\n",
      "WARNING: Rate Limit Exceeded...retrying request after 87.0 seconds\n",
      "API request ERROR:  too_many_requests https://europe.api.riotgames.com/tft/match/v1/matches/EUW1_4653129786?api_key=RGAPI-c53f1c4e-782c-431e-a236-2f5cb667d2a4\n",
      "WARNING: Rate Limit Exceeded...retrying request after 96.0 seconds\n"
     ]
    }
   ],
   "source": [
    "# Get match data for each matchId\n",
    "API_address_match = 'https://' + regions_dict[region] + '.api.riotgames.com/tft/match/v1/matches/'\n",
    "\n",
    "match_data_json = []\n",
    "for matchId in matchId_list:\n",
    "    response = request_wrapper(API_address_match + matchId + API_key_suffix)\n",
    "    match_data_json.append(response.json())"
   ]
  },
  {
   "cell_type": "code",
   "execution_count": 25,
   "metadata": {},
   "outputs": [],
   "source": [
    "# Filter match data by patch\n",
    "def get_patch(match_data):\n",
    "    return '.'.join(match_data['info']['game_version'].split(' ', 1)[1].split('.', 2)[0:2])\n",
    "\n",
    "match_data_json = list(filter(lambda x: get_patch(x) == patch, match_data_json))\n"
   ]
  },
  {
   "cell_type": "code",
   "execution_count": 28,
   "metadata": {},
   "outputs": [],
   "source": [
    "# Save data\n",
    "data_file_name = 'match_data/match_data_' + region + '_' + patch + '_' + datetime.today().strftime('%d%m%y') + '.txt'\n",
    "with open(data_file_name, 'w') as outfile:\n",
    "    json.dump(match_data_json, outfile)"
   ]
  }
 ],
 "metadata": {
  "kernelspec": {
   "display_name": "Python 3",
   "language": "python",
   "name": "python3"
  },
  "language_info": {
   "codemirror_mode": {
    "name": "ipython",
    "version": 3
   },
   "file_extension": ".py",
   "mimetype": "text/x-python",
   "name": "python",
   "nbconvert_exporter": "python",
   "pygments_lexer": "ipython3",
   "version": "3.7.4"
  }
 },
 "nbformat": 4,
 "nbformat_minor": 4
}
