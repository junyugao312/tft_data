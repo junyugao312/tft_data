{
 "cells": [
  {
   "cell_type": "code",
   "execution_count": 140,
   "metadata": {},
   "outputs": [],
   "source": [
    "import pandas as pd\n",
    "import requests\n",
    "\n",
    "from datetime import datetime\n",
    "import json\n",
    "import time"
   ]
  },
  {
   "cell_type": "code",
   "execution_count": 141,
   "metadata": {},
   "outputs": [],
   "source": [
    "def request_wrapper(API_address, printing=False):\n",
    "    if printing:\n",
    "        print('API request: ' + API_address)\n",
    "    fail_count = 0\n",
    "    response = requests.get(API_address)\n",
    "    while response.status_code != 200:\n",
    "        print(\"API request ERROR: \", requests.status_codes._codes[response.status_code][0], API_address)\n",
    "        fail_count += 1\n",
    "        if fail_count >= 5:\n",
    "            raise SystemExit(\"ERROR: API request failed 5 times in a row.\")\n",
    "        if response.status_code == 429:\n",
    "            wait_time = float(response.headers['Retry-After'])\n",
    "            print(\"WARNING: Rate Limit Exceeded...retrying request after {} seconds\".format(wait_time))\n",
    "            time.sleep(wait_time)\n",
    "        response = requests.get(API_address)\n",
    "    return response"
   ]
  },
  {
   "cell_type": "code",
   "execution_count": 148,
   "metadata": {},
   "outputs": [],
   "source": [
    "# Enter your own API key here\n",
    "# my API Key, Expires: Sat, May 30th, 2020 @ 9:53am (PT) in 23 hours and 59 minutes\n",
    "API_key = \"RGAPI-0aa571bd-baaf-45bc-8e72-2abef3310ae2\"\n",
    "API_key_suffix = '?api_key=' + API_key\n",
    "\n",
    "regions = ['br1', 'eun1', 'euw1', 'jp1', 'kr', 'la1', 'la2', 'na1', 'oc1', 'tr1', 'ru']\n",
    "regions_dict = {'br1':'americas',\n",
    "                'eun1':'europe',\n",
    "                'euw1':'europe',\n",
    "                'jp1':'asia',\n",
    "                'kr':'asia',\n",
    "                'la1':'americas',\n",
    "                'la2':'americas',\n",
    "                'na1':'americas',\n",
    "                'oc1':'americas',\n",
    "                'tr1':'europe',\n",
    "                'ru':'europe'\n",
    "               }"
   ]
  },
  {
   "cell_type": "code",
   "execution_count": 149,
   "metadata": {},
   "outputs": [],
   "source": [
    "#Specify league, region and patch\n",
    "league = 'challenger'\n",
    "region = 'euw1'\n",
    "patch = '10.11'\n",
    "\n"
   ]
  },
  {
   "cell_type": "code",
   "execution_count": 151,
   "metadata": {},
   "outputs": [],
   "source": [
    "# Get summonerId\n",
    "API_address_league = 'https://' + region + '.api.riotgames.com/tft/league/v1/' + league\n",
    "\n",
    "response = request_wrapper(API_address_league + API_key_suffix)\n",
    "summonerId_list = [i['summonerId'] for i in response.json()['entries']]"
   ]
  },
  {
   "cell_type": "code",
   "execution_count": 152,
   "metadata": {},
   "outputs": [
    {
     "name": "stdout",
     "output_type": "stream",
     "text": [
      "API request ERROR:  too_many_requests https://euw1.api.riotgames.com/tft/summoner/v1/summoners/jpCbu9nF2fiUblg5qk4BW6Fxe9uotP4V3eMQDPAs4NFs9gc?api_key=RGAPI-0aa571bd-baaf-45bc-8e72-2abef3310ae2\n",
      "WARNING: Rate Limit Exceeded...retrying request after 64.0 seconds\n",
      "API request ERROR:  too_many_requests https://euw1.api.riotgames.com/tft/summoner/v1/summoners/Pp2QQp7bH4Dn3V1fso_s0n9f-YfgX6nk6-ibiv8c4VP3lxw?api_key=RGAPI-0aa571bd-baaf-45bc-8e72-2abef3310ae2\n",
      "WARNING: Rate Limit Exceeded...retrying request after 93.0 seconds\n"
     ]
    }
   ],
   "source": [
    "# Get puuid for each summonerId\n",
    "API_address_summoner = 'https://' + region + '.api.riotgames.com/tft/summoner/v1/summoners/'\n",
    "\n",
    "puuid_list = []\n",
    "for summonerId in summonerId_list:\n",
    "    response = request_wrapper(API_address_summoner + summonerId + API_key_suffix)\n",
    "    puuid_list.append(response.json()['puuid'])"
   ]
  },
  {
   "cell_type": "code",
   "execution_count": 153,
   "metadata": {},
   "outputs": [
    {
     "name": "stdout",
     "output_type": "stream",
     "text": [
      "API request ERROR:  too_many_requests https://europe.api.riotgames.com/tft/match/v1/matches/by-puuid/UPejvaZ44R17YVGWS5kBOrvwzjPa3PovT2BHcbIkcPZ_gQMBxwv_nE-Te17dHPjH_IvI_nImImxPZw/ids?count=20&api_key=RGAPI-0aa571bd-baaf-45bc-8e72-2abef3310ae2\n",
      "WARNING: Rate Limit Exceeded...retrying request after 95.0 seconds\n"
     ]
    }
   ],
   "source": [
    "# Get matchId for each puuid\n",
    "# Really annoying since you can't check which patch they were played on until the next step\n",
    "# Change count to change number of matches, change this depending on how long the patch has been out\n",
    "n_matches = 20\n",
    "API_address_matchId = 'https://' + regions_dict[region] + '.api.riotgames.com/tft/match/v1/matches/by-puuid/'\n",
    "\n",
    "matchId_list = []\n",
    "for puuid in puuid_list:\n",
    "    response = request_wrapper(API_address_matchId + puuid + '/ids?count={}&api_key='.format(n_matches) + API_key)\n",
    "    matchId_list += response.json()\n",
    "matchId_list = list(set(matchId_list))"
   ]
  },
  {
   "cell_type": "code",
   "execution_count": 154,
   "metadata": {
    "collapsed": true,
    "jupyter": {
     "outputs_hidden": true
    }
   },
   "outputs": [
    {
     "name": "stdout",
     "output_type": "stream",
     "text": [
      "API request ERROR:  too_many_requests https://europe.api.riotgames.com/tft/match/v1/matches/EUW1_4605115881?api_key=RGAPI-0aa571bd-baaf-45bc-8e72-2abef3310ae2\n",
      "WARNING: Rate Limit Exceeded...retrying request after 92.0 seconds\n",
      "API request ERROR:  too_many_requests https://europe.api.riotgames.com/tft/match/v1/matches/EUW1_4617175049?api_key=RGAPI-0aa571bd-baaf-45bc-8e72-2abef3310ae2\n",
      "WARNING: Rate Limit Exceeded...retrying request after 90.0 seconds\n",
      "API request ERROR:  too_many_requests https://europe.api.riotgames.com/tft/match/v1/matches/EUW1_4637945208?api_key=RGAPI-0aa571bd-baaf-45bc-8e72-2abef3310ae2\n",
      "WARNING: Rate Limit Exceeded...retrying request after 100.0 seconds\n",
      "API request ERROR:  too_many_requests https://europe.api.riotgames.com/tft/match/v1/matches/EUW1_4627056929?api_key=RGAPI-0aa571bd-baaf-45bc-8e72-2abef3310ae2\n",
      "WARNING: Rate Limit Exceeded...retrying request after 87.0 seconds\n",
      "API request ERROR:  too_many_requests https://europe.api.riotgames.com/tft/match/v1/matches/EUW1_4622500209?api_key=RGAPI-0aa571bd-baaf-45bc-8e72-2abef3310ae2\n",
      "WARNING: Rate Limit Exceeded...retrying request after 82.0 seconds\n",
      "API request ERROR:  too_many_requests https://europe.api.riotgames.com/tft/match/v1/matches/EUW1_4629078792?api_key=RGAPI-0aa571bd-baaf-45bc-8e72-2abef3310ae2\n",
      "WARNING: Rate Limit Exceeded...retrying request after 94.0 seconds\n",
      "API request ERROR:  too_many_requests https://europe.api.riotgames.com/tft/match/v1/matches/EUW1_4623186561?api_key=RGAPI-0aa571bd-baaf-45bc-8e72-2abef3310ae2\n",
      "WARNING: Rate Limit Exceeded...retrying request after 93.0 seconds\n",
      "API request ERROR:  too_many_requests https://europe.api.riotgames.com/tft/match/v1/matches/EUW1_4628332206?api_key=RGAPI-0aa571bd-baaf-45bc-8e72-2abef3310ae2\n",
      "WARNING: Rate Limit Exceeded...retrying request after 93.0 seconds\n",
      "API request ERROR:  too_many_requests https://europe.api.riotgames.com/tft/match/v1/matches/EUW1_4632639579?api_key=RGAPI-0aa571bd-baaf-45bc-8e72-2abef3310ae2\n",
      "WARNING: Rate Limit Exceeded...retrying request after 94.0 seconds\n",
      "API request ERROR:  too_many_requests https://europe.api.riotgames.com/tft/match/v1/matches/EUW1_4626476650?api_key=RGAPI-0aa571bd-baaf-45bc-8e72-2abef3310ae2\n",
      "WARNING: Rate Limit Exceeded...retrying request after 94.0 seconds\n",
      "API request ERROR:  too_many_requests https://europe.api.riotgames.com/tft/match/v1/matches/EUW1_4629381518?api_key=RGAPI-0aa571bd-baaf-45bc-8e72-2abef3310ae2\n",
      "WARNING: Rate Limit Exceeded...retrying request after 81.0 seconds\n",
      "API request ERROR:  too_many_requests https://europe.api.riotgames.com/tft/match/v1/matches/EUW1_4637442705?api_key=RGAPI-0aa571bd-baaf-45bc-8e72-2abef3310ae2\n",
      "WARNING: Rate Limit Exceeded...retrying request after 100.0 seconds\n",
      "API request ERROR:  too_many_requests https://europe.api.riotgames.com/tft/match/v1/matches/EUW1_4610038141?api_key=RGAPI-0aa571bd-baaf-45bc-8e72-2abef3310ae2\n",
      "WARNING: Rate Limit Exceeded...retrying request after 80.0 seconds\n",
      "API request ERROR:  too_many_requests https://europe.api.riotgames.com/tft/match/v1/matches/EUW1_4615182027?api_key=RGAPI-0aa571bd-baaf-45bc-8e72-2abef3310ae2\n",
      "WARNING: Rate Limit Exceeded...retrying request after 90.0 seconds\n",
      "API request ERROR:  too_many_requests https://europe.api.riotgames.com/tft/match/v1/matches/EUW1_4630317050?api_key=RGAPI-0aa571bd-baaf-45bc-8e72-2abef3310ae2\n",
      "WARNING: Rate Limit Exceeded...retrying request after 94.0 seconds\n",
      "API request ERROR:  too_many_requests https://europe.api.riotgames.com/tft/match/v1/matches/EUW1_4606253427?api_key=RGAPI-0aa571bd-baaf-45bc-8e72-2abef3310ae2\n",
      "WARNING: Rate Limit Exceeded...retrying request after 95.0 seconds\n",
      "API request ERROR:  too_many_requests https://europe.api.riotgames.com/tft/match/v1/matches/EUW1_4628797017?api_key=RGAPI-0aa571bd-baaf-45bc-8e72-2abef3310ae2\n",
      "WARNING: Rate Limit Exceeded...retrying request after 91.0 seconds\n",
      "API request ERROR:  too_many_requests https://europe.api.riotgames.com/tft/match/v1/matches/EUW1_4604190700?api_key=RGAPI-0aa571bd-baaf-45bc-8e72-2abef3310ae2\n",
      "WARNING: Rate Limit Exceeded...retrying request after 93.0 seconds\n",
      "API request ERROR:  too_many_requests https://europe.api.riotgames.com/tft/match/v1/matches/EUW1_4626305191?api_key=RGAPI-0aa571bd-baaf-45bc-8e72-2abef3310ae2\n",
      "WARNING: Rate Limit Exceeded...retrying request after 92.0 seconds\n",
      "API request ERROR:  too_many_requests https://europe.api.riotgames.com/tft/match/v1/matches/EUW1_4633391648?api_key=RGAPI-0aa571bd-baaf-45bc-8e72-2abef3310ae2\n",
      "WARNING: Rate Limit Exceeded...retrying request after 94.0 seconds\n",
      "API request ERROR:  too_many_requests https://europe.api.riotgames.com/tft/match/v1/matches/EUW1_4624673689?api_key=RGAPI-0aa571bd-baaf-45bc-8e72-2abef3310ae2\n",
      "WARNING: Rate Limit Exceeded...retrying request after 94.0 seconds\n",
      "API request ERROR:  too_many_requests https://europe.api.riotgames.com/tft/match/v1/matches/EUW1_4607864760?api_key=RGAPI-0aa571bd-baaf-45bc-8e72-2abef3310ae2\n",
      "WARNING: Rate Limit Exceeded...retrying request after 93.0 seconds\n",
      "API request ERROR:  too_many_requests https://europe.api.riotgames.com/tft/match/v1/matches/EUW1_4637203813?api_key=RGAPI-0aa571bd-baaf-45bc-8e72-2abef3310ae2\n",
      "WARNING: Rate Limit Exceeded...retrying request after 94.0 seconds\n",
      "API request ERROR:  too_many_requests https://europe.api.riotgames.com/tft/match/v1/matches/EUW1_4637310727?api_key=RGAPI-0aa571bd-baaf-45bc-8e72-2abef3310ae2\n",
      "WARNING: Rate Limit Exceeded...retrying request after 94.0 seconds\n",
      "API request ERROR:  too_many_requests https://europe.api.riotgames.com/tft/match/v1/matches/EUW1_4636597481?api_key=RGAPI-0aa571bd-baaf-45bc-8e72-2abef3310ae2\n",
      "WARNING: Rate Limit Exceeded...retrying request after 81.0 seconds\n",
      "API request ERROR:  too_many_requests https://europe.api.riotgames.com/tft/match/v1/matches/EUW1_4625443176?api_key=RGAPI-0aa571bd-baaf-45bc-8e72-2abef3310ae2\n",
      "WARNING: Rate Limit Exceeded...retrying request after 80.0 seconds\n"
     ]
    }
   ],
   "source": [
    "# Get match data for each matchId\n",
    "API_address_match = 'https://' + regions_dict[region] + '.api.riotgames.com/tft/match/v1/matches/'\n",
    "\n",
    "match_data_json = []\n",
    "for matchId in matchId_list:\n",
    "    response = request_wrapper(API_address_match + matchId + API_key_suffix)\n",
    "    match_data_json.append(response.json())"
   ]
  },
  {
   "cell_type": "code",
   "execution_count": 155,
   "metadata": {},
   "outputs": [],
   "source": [
    "# Filter match data by patch\n",
    "def get_patch(match_data):\n",
    "    return '.'.join(match_data['info']['game_version'].split(' ', 1)[1].split('.', 2)[0:2])\n",
    "\n",
    "match_data_json = list(filter(lambda x: get_patch(x) == patch, match_data_json))\n"
   ]
  },
  {
   "cell_type": "code",
   "execution_count": 156,
   "metadata": {},
   "outputs": [],
   "source": [
    "# Save data\n",
    "data_file_name = 'match_data/match_data_' + league + '_' + region + '_' + patch + '_' + datetime.today().strftime('%d%m%y') + '.txt'\n",
    "with open(data_file_name, 'w') as outfile:\n",
    "    json.dump(match_data_json, outfile)"
   ]
  }
 ],
 "metadata": {
  "kernelspec": {
   "display_name": "Python 3",
   "language": "python",
   "name": "python3"
  },
  "language_info": {
   "codemirror_mode": {
    "name": "ipython",
    "version": 3
   },
   "file_extension": ".py",
   "mimetype": "text/x-python",
   "name": "python",
   "nbconvert_exporter": "python",
   "pygments_lexer": "ipython3",
   "version": "3.7.4"
  }
 },
 "nbformat": 4,
 "nbformat_minor": 4
}
