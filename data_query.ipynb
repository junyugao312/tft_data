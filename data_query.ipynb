{
 "cells": [
  {
   "cell_type": "code",
   "execution_count": 1,
   "metadata": {},
   "outputs": [],
   "source": [
    "import pandas as pd\n",
    "import requests\n",
    "import numpy as np\n",
    "\n",
    "from datetime import datetime\n",
    "import json\n",
    "import time"
   ]
  },
  {
   "cell_type": "code",
   "execution_count": 2,
   "metadata": {},
   "outputs": [],
   "source": [
    "def request_wrapper(API_address, printing=False):\n",
    "    if printing:\n",
    "        print('API request: ' + API_address)\n",
    "    fail_count = 0\n",
    "    response = requests.get(API_address)\n",
    "    while response.status_code != 200:\n",
    "        print(\"API request ERROR: \", requests.status_codes._codes[response.status_code][0], API_address)\n",
    "        fail_count += 1\n",
    "        if fail_count >= 5:\n",
    "            raise SystemExit(\"ERROR: API request failed 5 times in a row.\")\n",
    "        if response.status_code == 429:\n",
    "            wait_time = float(response.headers['Retry-After'])\n",
    "            print(\"WARNING: Rate Limit Exceeded...retrying request after {} seconds\".format(wait_time))\n",
    "            time.sleep(wait_time)\n",
    "        response = requests.get(API_address)\n",
    "    return response"
   ]
  },
  {
   "cell_type": "code",
   "execution_count": 7,
   "metadata": {},
   "outputs": [],
   "source": [
    "# Enter your own API key here\n",
    "# my API Key, Expires: Sat, May 30th, 2020 @ 9:53am (PT) in 23 hours and 59 minutes\n",
    "API_key = \"RGAPI-4e5f6aac-a4c7-48b7-9ad4-db6984fdec2f\"\n",
    "API_key_suffix = '?api_key=' + API_key\n",
    "\n",
    "regions = ['br1', 'eun1', 'euw1', 'jp1', 'kr', 'la1', 'la2', 'na1', 'oc1', 'tr1', 'ru']\n",
    "regions_dict = {'br1':'americas',\n",
    "                'eun1':'europe',\n",
    "                'euw1':'europe',\n",
    "                'jp1':'asia',\n",
    "                'kr':'asia',\n",
    "                'la1':'americas',\n",
    "                'la2':'americas',\n",
    "                'na1':'americas',\n",
    "                'oc1':'americas',\n",
    "                'tr1':'europe',\n",
    "                'ru':'europe'\n",
    "               }"
   ]
  },
  {
   "cell_type": "code",
   "execution_count": 8,
   "metadata": {},
   "outputs": [],
   "source": [
    "def get_summonerId_list(n_summonerId = 1000, region = 'euw1', patch = '10.11'):\n",
    "    summonerId_list = []\n",
    "    for league in ['challenger', 'grandmaster', 'master']:\n",
    "        try:\n",
    "            API_address_league = 'https://' + region + '.api.riotgames.com/tft/league/v1/' + league\n",
    "            response = request_wrapper(API_address_league + API_key_suffix)\n",
    "            summonerId_list = summonerId_list + [i['summonerId'] for i in response.json()['entries']]\n",
    "            #print(response.json()['entries'][0])\n",
    "            if len(summonerId_list) >= n_summonerId:\n",
    "                return summonerId_list[:n_summonerId]\n",
    "        except:\n",
    "            pass\n",
    "\n",
    "    for division in ['I', 'II', 'III', 'IV']:\n",
    "        for page in range(1,int(np.ceil(n_summonerId/205)+1)):\n",
    "            try:\n",
    "                league = 'entries/DIAMOND/' + division + '?page=' + str(int(page)) + '&'\n",
    "                API_address_league = 'https://' + region + '.api.riotgames.com/tft/league/v1/' + league\n",
    "                response = request_wrapper(API_address_league + API_key_suffix[1:])\n",
    "                summonerId_list = summonerId_list + [i['summonerId'] for i in response.json()]\n",
    "                #print(response.json()[0])\n",
    "                if len(summonerId_list) >= n_summonerId:\n",
    "                    return summonerId_list[:n_summonerId]\n",
    "            except:\n",
    "                pass\n",
    "    return summonerId_list[:n_summonerId]"
   ]
  },
  {
   "cell_type": "code",
   "execution_count": 9,
   "metadata": {},
   "outputs": [],
   "source": [
    "#Specify region and patch\n",
    "n_summonerId = 500\n",
    "region = 'euw1'\n",
    "patch = '10.12'\n",
    "\n",
    "summonerId_list = get_summonerId_list(n_summonerId, region, patch)"
   ]
  },
  {
   "cell_type": "code",
   "execution_count": 10,
   "metadata": {},
   "outputs": [
    {
     "name": "stdout",
     "output_type": "stream",
     "text": [
      "API request ERROR:  too_many_requests https://euw1.api.riotgames.com/tft/summoner/v1/summoners/TsfzyvagevFa20EFe2NUzyVkbUCjXCNJ9Yh1VZ95KxyzXhQf?api_key=RGAPI-4e5f6aac-a4c7-48b7-9ad4-db6984fdec2f\n",
      "WARNING: Rate Limit Exceeded...retrying request after 67.0 seconds\n",
      "API request ERROR:  too_many_requests https://euw1.api.riotgames.com/tft/summoner/v1/summoners/1T4CBBfxmHIGOdJSnBvTBADhtpOhH-Vd78nz0nCGMnDtQgw?api_key=RGAPI-4e5f6aac-a4c7-48b7-9ad4-db6984fdec2f\n",
      "WARNING: Rate Limit Exceeded...retrying request after 108.0 seconds\n",
      "API request ERROR:  too_many_requests https://euw1.api.riotgames.com/tft/summoner/v1/summoners/BBhZTm3nf_jc2mlaLoh8WdsE8djMLMStG0bZ_Fz76TL2Kno?api_key=RGAPI-4e5f6aac-a4c7-48b7-9ad4-db6984fdec2f\n",
      "WARNING: Rate Limit Exceeded...retrying request after 108.0 seconds\n",
      "API request ERROR:  too_many_requests https://euw1.api.riotgames.com/tft/summoner/v1/summoners/6vhNb-5JP_JPuzrT-4ZOVHTqIOdRF4mMak_3tlIoY3MXnUU?api_key=RGAPI-4e5f6aac-a4c7-48b7-9ad4-db6984fdec2f\n",
      "WARNING: Rate Limit Exceeded...retrying request after 108.0 seconds\n",
      "API request ERROR:  too_many_requests https://euw1.api.riotgames.com/tft/summoner/v1/summoners/Ui_k96D0hZD2dAjhKEM9HFo6AWwed1R7R-AAdb0DoVrUnGw?api_key=RGAPI-4e5f6aac-a4c7-48b7-9ad4-db6984fdec2f\n",
      "WARNING: Rate Limit Exceeded...retrying request after 108.0 seconds\n"
     ]
    }
   ],
   "source": [
    "# Get puuid for each summonerId\n",
    "API_address_summoner = 'https://' + region + '.api.riotgames.com/tft/summoner/v1/summoners/'\n",
    "\n",
    "puuid_list = []\n",
    "for summonerId in summonerId_list:\n",
    "    response = request_wrapper(API_address_summoner + summonerId + API_key_suffix)\n",
    "    puuid_list.append(response.json()['puuid'])"
   ]
  },
  {
   "cell_type": "code",
   "execution_count": 11,
   "metadata": {},
   "outputs": [
    {
     "name": "stdout",
     "output_type": "stream",
     "text": [
      "API request ERROR:  too_many_requests https://europe.api.riotgames.com/tft/match/v1/matches/by-puuid/crLX24YyZZ3sHQPHHa5uLb8uK-p6Ayhqy3mNPKequORuZ6cXj1UK_YtjADFHwGGlVfh6Kg2YvD8gjw/ids?count=10&api_key=RGAPI-4e5f6aac-a4c7-48b7-9ad4-db6984fdec2f\n",
      "WARNING: Rate Limit Exceeded...retrying request after 107.0 seconds\n",
      "API request ERROR:  too_many_requests https://europe.api.riotgames.com/tft/match/v1/matches/by-puuid/l0feow3tjFlS3H1S_5XfiUZObZwyO60Ka8TMyhaL_g6ptS_B7sOtHjaIv0W7JPFXWLHK73x9j8Msbw/ids?count=10&api_key=RGAPI-4e5f6aac-a4c7-48b7-9ad4-db6984fdec2f\n",
      "WARNING: Rate Limit Exceeded...retrying request after 107.0 seconds\n",
      "API request ERROR:  too_many_requests https://europe.api.riotgames.com/tft/match/v1/matches/by-puuid/RpaEUfyebUFzydxG7Ez52weJOSdxQoE1_Y9TwGknUbe6V5TdWzfdL7Kx2FDbhv-TpKj2jtHzQhxt6A/ids?count=10&api_key=RGAPI-4e5f6aac-a4c7-48b7-9ad4-db6984fdec2f\n",
      "WARNING: Rate Limit Exceeded...retrying request after 107.0 seconds\n",
      "API request ERROR:  too_many_requests https://europe.api.riotgames.com/tft/match/v1/matches/by-puuid/SUspmJAAiKruzpUwq4WGCJzFfgmLtTVYZdxuzKQ46BwZd0MQFqw0zdELNpOKGHG2r_uASV_5VY8-vw/ids?count=10&api_key=RGAPI-4e5f6aac-a4c7-48b7-9ad4-db6984fdec2f\n",
      "WARNING: Rate Limit Exceeded...retrying request after 107.0 seconds\n"
     ]
    }
   ],
   "source": [
    "# Get matchId for each puuid\n",
    "# Really annoying since you can't check which patch they were played on until the next step\n",
    "# Change count to change number of matches, change this depending on how long the patch has been out\n",
    "n_matches = 10\n",
    "API_address_matchId = 'https://' + regions_dict[region] + '.api.riotgames.com/tft/match/v1/matches/by-puuid/'\n",
    "\n",
    "matchId_list = []\n",
    "for puuid in puuid_list:\n",
    "    response = request_wrapper(API_address_matchId + puuid + '/ids?count={}&api_key='.format(n_matches) + API_key)\n",
    "    matchId_list += response.json()\n",
    "matchId_list = list(set(matchId_list))"
   ]
  },
  {
   "cell_type": "code",
   "execution_count": 12,
   "metadata": {},
   "outputs": [
    {
     "name": "stdout",
     "output_type": "stream",
     "text": [
      "API request ERROR:  too_many_requests https://europe.api.riotgames.com/tft/match/v1/matches/EUW1_4668172526?api_key=RGAPI-4e5f6aac-a4c7-48b7-9ad4-db6984fdec2f\n",
      "WARNING: Rate Limit Exceeded...retrying request after 103.0 seconds\n",
      "API request ERROR:  too_many_requests https://europe.api.riotgames.com/tft/match/v1/matches/EUW1_4665306613?api_key=RGAPI-4e5f6aac-a4c7-48b7-9ad4-db6984fdec2f\n",
      "WARNING: Rate Limit Exceeded...retrying request after 103.0 seconds\n",
      "API request ERROR:  too_many_requests https://europe.api.riotgames.com/tft/match/v1/matches/EUW1_4666311284?api_key=RGAPI-4e5f6aac-a4c7-48b7-9ad4-db6984fdec2f\n",
      "WARNING: Rate Limit Exceeded...retrying request after 103.0 seconds\n",
      "API request ERROR:  too_many_requests https://europe.api.riotgames.com/tft/match/v1/matches/EUW1_4665141293?api_key=RGAPI-4e5f6aac-a4c7-48b7-9ad4-db6984fdec2f\n",
      "WARNING: Rate Limit Exceeded...retrying request after 103.0 seconds\n",
      "API request ERROR:  too_many_requests https://europe.api.riotgames.com/tft/match/v1/matches/EUW1_4668861989?api_key=RGAPI-4e5f6aac-a4c7-48b7-9ad4-db6984fdec2f\n",
      "WARNING: Rate Limit Exceeded...retrying request after 102.0 seconds\n",
      "API request ERROR:  too_many_requests https://europe.api.riotgames.com/tft/match/v1/matches/EUW1_4668389001?api_key=RGAPI-4e5f6aac-a4c7-48b7-9ad4-db6984fdec2f\n",
      "WARNING: Rate Limit Exceeded...retrying request after 104.0 seconds\n",
      "API request ERROR:  too_many_requests https://europe.api.riotgames.com/tft/match/v1/matches/EUW1_4668118026?api_key=RGAPI-4e5f6aac-a4c7-48b7-9ad4-db6984fdec2f\n",
      "WARNING: Rate Limit Exceeded...retrying request after 103.0 seconds\n",
      "API request ERROR:  too_many_requests https://europe.api.riotgames.com/tft/match/v1/matches/EUW1_4667977383?api_key=RGAPI-4e5f6aac-a4c7-48b7-9ad4-db6984fdec2f\n",
      "WARNING: Rate Limit Exceeded...retrying request after 106.0 seconds\n",
      "API request ERROR:  too_many_requests https://europe.api.riotgames.com/tft/match/v1/matches/EUW1_4664275886?api_key=RGAPI-4e5f6aac-a4c7-48b7-9ad4-db6984fdec2f\n",
      "WARNING: Rate Limit Exceeded...retrying request after 106.0 seconds\n",
      "API request ERROR:  too_many_requests https://europe.api.riotgames.com/tft/match/v1/matches/EUW1_4669267585?api_key=RGAPI-4e5f6aac-a4c7-48b7-9ad4-db6984fdec2f\n",
      "WARNING: Rate Limit Exceeded...retrying request after 107.0 seconds\n",
      "API request ERROR:  too_many_requests https://europe.api.riotgames.com/tft/match/v1/matches/EUW1_4668192637?api_key=RGAPI-4e5f6aac-a4c7-48b7-9ad4-db6984fdec2f\n",
      "WARNING: Rate Limit Exceeded...retrying request after 105.0 seconds\n",
      "API request ERROR:  too_many_requests https://europe.api.riotgames.com/tft/match/v1/matches/EUW1_4657472524?api_key=RGAPI-4e5f6aac-a4c7-48b7-9ad4-db6984fdec2f\n",
      "WARNING: Rate Limit Exceeded...retrying request after 107.0 seconds\n",
      "API request ERROR:  too_many_requests https://europe.api.riotgames.com/tft/match/v1/matches/EUW1_4670131684?api_key=RGAPI-4e5f6aac-a4c7-48b7-9ad4-db6984fdec2f\n",
      "WARNING: Rate Limit Exceeded...retrying request after 106.0 seconds\n",
      "API request ERROR:  too_many_requests https://europe.api.riotgames.com/tft/match/v1/matches/EUW1_4669012261?api_key=RGAPI-4e5f6aac-a4c7-48b7-9ad4-db6984fdec2f\n",
      "WARNING: Rate Limit Exceeded...retrying request after 107.0 seconds\n",
      "API request ERROR:  too_many_requests https://europe.api.riotgames.com/tft/match/v1/matches/EUW1_4665554560?api_key=RGAPI-4e5f6aac-a4c7-48b7-9ad4-db6984fdec2f\n",
      "WARNING: Rate Limit Exceeded...retrying request after 107.0 seconds\n",
      "API request ERROR:  too_many_requests https://europe.api.riotgames.com/tft/match/v1/matches/EUW1_4668554605?api_key=RGAPI-4e5f6aac-a4c7-48b7-9ad4-db6984fdec2f\n",
      "WARNING: Rate Limit Exceeded...retrying request after 106.0 seconds\n",
      "API request ERROR:  too_many_requests https://europe.api.riotgames.com/tft/match/v1/matches/EUW1_4665728321?api_key=RGAPI-4e5f6aac-a4c7-48b7-9ad4-db6984fdec2f\n",
      "WARNING: Rate Limit Exceeded...retrying request after 105.0 seconds\n",
      "API request ERROR:  too_many_requests https://europe.api.riotgames.com/tft/match/v1/matches/EUW1_4665106315?api_key=RGAPI-4e5f6aac-a4c7-48b7-9ad4-db6984fdec2f\n",
      "WARNING: Rate Limit Exceeded...retrying request after 106.0 seconds\n",
      "API request ERROR:  too_many_requests https://europe.api.riotgames.com/tft/match/v1/matches/EUW1_4665527144?api_key=RGAPI-4e5f6aac-a4c7-48b7-9ad4-db6984fdec2f\n",
      "WARNING: Rate Limit Exceeded...retrying request after 107.0 seconds\n",
      "API request ERROR:  too_many_requests https://europe.api.riotgames.com/tft/match/v1/matches/EUW1_4669635420?api_key=RGAPI-4e5f6aac-a4c7-48b7-9ad4-db6984fdec2f\n",
      "WARNING: Rate Limit Exceeded...retrying request after 107.0 seconds\n",
      "API request ERROR:  too_many_requests https://europe.api.riotgames.com/tft/match/v1/matches/EUW1_4669104366?api_key=RGAPI-4e5f6aac-a4c7-48b7-9ad4-db6984fdec2f\n",
      "WARNING: Rate Limit Exceeded...retrying request after 106.0 seconds\n",
      "API request ERROR:  too_many_requests https://europe.api.riotgames.com/tft/match/v1/matches/EUW1_4665108098?api_key=RGAPI-4e5f6aac-a4c7-48b7-9ad4-db6984fdec2f\n",
      "WARNING: Rate Limit Exceeded...retrying request after 104.0 seconds\n",
      "API request ERROR:  too_many_requests https://europe.api.riotgames.com/tft/match/v1/matches/EUW1_4666281045?api_key=RGAPI-4e5f6aac-a4c7-48b7-9ad4-db6984fdec2f\n",
      "WARNING: Rate Limit Exceeded...retrying request after 103.0 seconds\n",
      "API request ERROR:  too_many_requests https://europe.api.riotgames.com/tft/match/v1/matches/EUW1_4670449667?api_key=RGAPI-4e5f6aac-a4c7-48b7-9ad4-db6984fdec2f\n",
      "WARNING: Rate Limit Exceeded...retrying request after 107.0 seconds\n"
     ]
    }
   ],
   "source": [
    "# Get match data for each matchId\n",
    "API_address_match = 'https://' + regions_dict[region] + '.api.riotgames.com/tft/match/v1/matches/'\n",
    "\n",
    "match_data_json = []\n",
    "for matchId in matchId_list:\n",
    "    response = request_wrapper(API_address_match + matchId + API_key_suffix)\n",
    "    match_data_json.append(response.json())"
   ]
  },
  {
   "cell_type": "code",
   "execution_count": 13,
   "metadata": {},
   "outputs": [],
   "source": [
    "# Filter match data by patch\n",
    "def get_patch(match_data):\n",
    "    return '.'.join(match_data['info']['game_version'].split(' ', 1)[1].split('.', 2)[0:2])\n",
    "\n",
    "match_data_json = list(filter(lambda x: get_patch(x) == patch, match_data_json))\n"
   ]
  },
  {
   "cell_type": "code",
   "execution_count": 14,
   "metadata": {},
   "outputs": [],
   "source": [
    "# Save data\n",
    "data_file_name = 'match_data/match_data_' + region + '_' + patch + '_' + datetime.today().strftime('%d%m%y') + '.txt'\n",
    "with open(data_file_name, 'w') as outfile:\n",
    "    json.dump(match_data_json, outfile)"
   ]
  },
  {
   "cell_type": "code",
   "execution_count": 15,
   "metadata": {},
   "outputs": [
    {
     "data": {
      "text/plain": [
       "2338"
      ]
     },
     "execution_count": 15,
     "metadata": {},
     "output_type": "execute_result"
    }
   ],
   "source": [
    "len(match_data_json)"
   ]
  },
  {
   "cell_type": "code",
   "execution_count": null,
   "metadata": {},
   "outputs": [],
   "source": []
  }
 ],
 "metadata": {
  "kernelspec": {
   "display_name": "Python 3",
   "language": "python",
   "name": "python3"
  },
  "language_info": {
   "codemirror_mode": {
    "name": "ipython",
    "version": 3
   },
   "file_extension": ".py",
   "mimetype": "text/x-python",
   "name": "python",
   "nbconvert_exporter": "python",
   "pygments_lexer": "ipython3",
   "version": "3.7.4"
  }
 },
 "nbformat": 4,
 "nbformat_minor": 4
}
