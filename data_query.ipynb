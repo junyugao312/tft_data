{
 "cells": [
  {
   "cell_type": "code",
   "execution_count": 34,
   "metadata": {},
   "outputs": [],
   "source": [
    "import pandas as pd\n",
    "import requests\n",
    "\n",
    "from datetime import datetime\n",
    "import json\n",
    "import time"
   ]
  },
  {
   "cell_type": "code",
   "execution_count": 88,
   "metadata": {},
   "outputs": [],
   "source": [
    "def request_wrapper(API_address, printing=False):\n",
    "    if printing:\n",
    "        print('API request: ' + API_address)\n",
    "    fail_count = 0\n",
    "    response = requests.get(API_address)\n",
    "    while response.status_code != 200:\n",
    "        print(\"API request ERROR: \", requests.status_codes._codes[response.status_code][0], API_address)\n",
    "        fail_count += 1\n",
    "        if fail_count >= 5:\n",
    "            raise SystemExit(\"ERROR: API request failed 5 times in a row.\")\n",
    "        if response.status_code == 429:\n",
    "            wait_time = float(response.headers['Retry-After'])\n",
    "            print(\"WARNING: Rate Limit Exceeded...retrying request after {} seconds\".format(wait_time))\n",
    "            time.sleep(wait_time)\n",
    "        response = requests.get(API_address)\n",
    "    return response"
   ]
  },
  {
   "cell_type": "code",
   "execution_count": 61,
   "metadata": {},
   "outputs": [],
   "source": [
    "# Enter your own API key here\n",
    "# my API Key, Expires: Sat, May 30th, 2020 @ 9:53am (PT) in 23 hours and 59 minutes\n",
    "API_key = \"RGAPI-e55ca1a4-b7e9-46d7-93ab-ea38ff3c47ba\"\n",
    "API_key_suffix = '?api_key=' + API_key\n",
    "\n",
    "regions = ['br1', 'eun1', 'euw1', 'jp1', 'kr', 'la1', 'la2', 'na1', 'oc1', 'tr1', 'ru']\n",
    "regions_dict = {'br1':'americas',\n",
    "                'eun1':'europe',\n",
    "                'euw1':'europe',\n",
    "                'jp1':'asia',\n",
    "                'kr':'asia',\n",
    "                'la1':'americas',\n",
    "                'la2':'americas',\n",
    "                'na1':'americas',\n",
    "                'oc1':'americas',\n",
    "                'tr1':'europe',\n",
    "                'ru':'europe'\n",
    "               }"
   ]
  },
  {
   "cell_type": "code",
   "execution_count": 81,
   "metadata": {},
   "outputs": [],
   "source": [
    "#Specify league, region and patch\n",
    "league = 'challenger'\n",
    "region = 'euw1'\n",
    "patch = '10.11'\n",
    "\n"
   ]
  },
  {
   "cell_type": "code",
   "execution_count": 80,
   "metadata": {},
   "outputs": [],
   "source": [
    "# Get summonerId\n",
    "API_address_league = 'https://' + region + '.api.riotgames.com/tft/league/v1/' + league\n",
    "\n",
    "response = request_wrapper(API_address_league + API_key_suffix)\n",
    "summonerId_list = [i['summonerId'] for i in response.json()['entries']]"
   ]
  },
  {
   "cell_type": "code",
   "execution_count": 62,
   "metadata": {},
   "outputs": [],
   "source": [
    "# Get puuid for each summonerId\n",
    "API_address_summoner = 'https://' + region + '.api.riotgames.com/tft/summoner/v1/summoners/'\n",
    "\n",
    "puuid_list = []\n",
    "for summonerId in summonerId_list:\n",
    "    response = request_wrapper(API_address_summoner + summonerId + API_key_suffix)\n",
    "    puuid_list.append(response.json()['puuid'])"
   ]
  },
  {
   "cell_type": "code",
   "execution_count": 78,
   "metadata": {},
   "outputs": [
    {
     "name": "stdout",
     "output_type": "stream",
     "text": [
      "API request ERROR:  too_many_requests\n",
      "WARNING: Rate Limit Exceeded...retrying request after 1.0 seconds\n",
      "API request ERROR:  too_many_requests\n",
      "WARNING: Rate Limit Exceeded...retrying request after 102.0 seconds\n"
     ]
    }
   ],
   "source": [
    "# Get matchId for each puuid\n",
    "# Really annoying since you can't check which patch they were played on until the next step\n",
    "# Change count to change number of matches, change this depending on how long the patch has been out\n",
    "n_matches = 20\n",
    "API_address_matchId = 'https://' + regions_dict[region] + '.api.riotgames.com/tft/match/v1/matches/by-puuid/'\n",
    "\n",
    "matchId_list = []\n",
    "for puuid in puuid_list:\n",
    "    response = request_wrapper(API_address_matchId + puuid + '/ids?count={}&api_key='.format(n_matches) + API_key)\n",
    "    matchId_list += response.json()\n",
    "matchId_list = list(set(matchId_list))"
   ]
  },
  {
   "cell_type": "code",
   "execution_count": 98,
   "metadata": {
    "collapsed": true,
    "jupyter": {
     "outputs_hidden": true
    }
   },
   "outputs": [
    {
     "name": "stdout",
     "output_type": "stream",
     "text": [
      "API request ERROR:  too_many_requests https://europe.api.riotgames.com/tft/match/v1/matches/EUW1_4615313660?api_key=RGAPI-e55ca1a4-b7e9-46d7-93ab-ea38ff3c47ba\n",
      "WARNING: Rate Limit Exceeded...retrying request after 98.0 seconds\n",
      "API request ERROR:  too_many_requests https://europe.api.riotgames.com/tft/match/v1/matches/EUW1_4612793642?api_key=RGAPI-e55ca1a4-b7e9-46d7-93ab-ea38ff3c47ba\n",
      "WARNING: Rate Limit Exceeded...retrying request after 98.0 seconds\n",
      "API request ERROR:  too_many_requests https://europe.api.riotgames.com/tft/match/v1/matches/EUW1_4622954639?api_key=RGAPI-e55ca1a4-b7e9-46d7-93ab-ea38ff3c47ba\n",
      "WARNING: Rate Limit Exceeded...retrying request after 98.0 seconds\n",
      "API request ERROR:  too_many_requests https://europe.api.riotgames.com/tft/match/v1/matches/EUW1_4630300206?api_key=RGAPI-e55ca1a4-b7e9-46d7-93ab-ea38ff3c47ba\n",
      "WARNING: Rate Limit Exceeded...retrying request after 98.0 seconds\n",
      "API request ERROR:  too_many_requests https://europe.api.riotgames.com/tft/match/v1/matches/EUW1_4586054830?api_key=RGAPI-e55ca1a4-b7e9-46d7-93ab-ea38ff3c47ba\n",
      "WARNING: Rate Limit Exceeded...retrying request after 98.0 seconds\n",
      "API request ERROR:  too_many_requests https://europe.api.riotgames.com/tft/match/v1/matches/EUW1_4616049905?api_key=RGAPI-e55ca1a4-b7e9-46d7-93ab-ea38ff3c47ba\n",
      "WARNING: Rate Limit Exceeded...retrying request after 98.0 seconds\n",
      "API request ERROR:  too_many_requests https://europe.api.riotgames.com/tft/match/v1/matches/EUW1_4625064511?api_key=RGAPI-e55ca1a4-b7e9-46d7-93ab-ea38ff3c47ba\n",
      "WARNING: Rate Limit Exceeded...retrying request after 94.0 seconds\n",
      "API request ERROR:  too_many_requests https://europe.api.riotgames.com/tft/match/v1/matches/EUW1_4610509640?api_key=RGAPI-e55ca1a4-b7e9-46d7-93ab-ea38ff3c47ba\n",
      "WARNING: Rate Limit Exceeded...retrying request after 99.0 seconds\n",
      "API request ERROR:  too_many_requests https://europe.api.riotgames.com/tft/match/v1/matches/EUW1_4620606780?api_key=RGAPI-e55ca1a4-b7e9-46d7-93ab-ea38ff3c47ba\n",
      "WARNING: Rate Limit Exceeded...retrying request after 99.0 seconds\n",
      "API request ERROR:  too_many_requests https://europe.api.riotgames.com/tft/match/v1/matches/EUW1_4605998944?api_key=RGAPI-e55ca1a4-b7e9-46d7-93ab-ea38ff3c47ba\n",
      "WARNING: Rate Limit Exceeded...retrying request after 98.0 seconds\n",
      "API request ERROR:  too_many_requests https://europe.api.riotgames.com/tft/match/v1/matches/EUW1_4620036298?api_key=RGAPI-e55ca1a4-b7e9-46d7-93ab-ea38ff3c47ba\n",
      "WARNING: Rate Limit Exceeded...retrying request after 99.0 seconds\n",
      "API request ERROR:  too_many_requests https://europe.api.riotgames.com/tft/match/v1/matches/EUW1_4614752759?api_key=RGAPI-e55ca1a4-b7e9-46d7-93ab-ea38ff3c47ba\n",
      "WARNING: Rate Limit Exceeded...retrying request after 96.0 seconds\n",
      "API request ERROR:  too_many_requests https://europe.api.riotgames.com/tft/match/v1/matches/EUW1_4612516896?api_key=RGAPI-e55ca1a4-b7e9-46d7-93ab-ea38ff3c47ba\n",
      "WARNING: Rate Limit Exceeded...retrying request after 98.0 seconds\n",
      "API request ERROR:  too_many_requests https://europe.api.riotgames.com/tft/match/v1/matches/EUW1_4621675015?api_key=RGAPI-e55ca1a4-b7e9-46d7-93ab-ea38ff3c47ba\n",
      "WARNING: Rate Limit Exceeded...retrying request after 99.0 seconds\n",
      "API request ERROR:  too_many_requests https://europe.api.riotgames.com/tft/match/v1/matches/EUW1_4621434572?api_key=RGAPI-e55ca1a4-b7e9-46d7-93ab-ea38ff3c47ba\n",
      "WARNING: Rate Limit Exceeded...retrying request after 98.0 seconds\n",
      "API request ERROR:  too_many_requests https://europe.api.riotgames.com/tft/match/v1/matches/EUW1_4627338260?api_key=RGAPI-e55ca1a4-b7e9-46d7-93ab-ea38ff3c47ba\n",
      "WARNING: Rate Limit Exceeded...retrying request after 98.0 seconds\n",
      "API request ERROR:  too_many_requests https://europe.api.riotgames.com/tft/match/v1/matches/EUW1_4601248506?api_key=RGAPI-e55ca1a4-b7e9-46d7-93ab-ea38ff3c47ba\n",
      "WARNING: Rate Limit Exceeded...retrying request after 97.0 seconds\n",
      "API request ERROR:  too_many_requests https://europe.api.riotgames.com/tft/match/v1/matches/EUW1_4590193986?api_key=RGAPI-e55ca1a4-b7e9-46d7-93ab-ea38ff3c47ba\n",
      "WARNING: Rate Limit Exceeded...retrying request after 97.0 seconds\n",
      "API request ERROR:  too_many_requests https://europe.api.riotgames.com/tft/match/v1/matches/EUW1_4612714951?api_key=RGAPI-e55ca1a4-b7e9-46d7-93ab-ea38ff3c47ba\n",
      "WARNING: Rate Limit Exceeded...retrying request after 101.0 seconds\n",
      "API request ERROR:  too_many_requests https://europe.api.riotgames.com/tft/match/v1/matches/EUW1_4617631235?api_key=RGAPI-e55ca1a4-b7e9-46d7-93ab-ea38ff3c47ba\n",
      "WARNING: Rate Limit Exceeded...retrying request after 93.0 seconds\n",
      "API request ERROR:  service_unavailable https://europe.api.riotgames.com/tft/match/v1/matches/EUW1_4595522642?api_key=RGAPI-e55ca1a4-b7e9-46d7-93ab-ea38ff3c47ba\n",
      "API request ERROR:  too_many_requests https://europe.api.riotgames.com/tft/match/v1/matches/EUW1_4601385217?api_key=RGAPI-e55ca1a4-b7e9-46d7-93ab-ea38ff3c47ba\n",
      "WARNING: Rate Limit Exceeded...retrying request after 96.0 seconds\n",
      "API request ERROR:  too_many_requests https://europe.api.riotgames.com/tft/match/v1/matches/EUW1_4625973290?api_key=RGAPI-e55ca1a4-b7e9-46d7-93ab-ea38ff3c47ba\n",
      "WARNING: Rate Limit Exceeded...retrying request after 97.0 seconds\n",
      "API request ERROR:  too_many_requests https://europe.api.riotgames.com/tft/match/v1/matches/EUW1_4591171800?api_key=RGAPI-e55ca1a4-b7e9-46d7-93ab-ea38ff3c47ba\n",
      "WARNING: Rate Limit Exceeded...retrying request after 98.0 seconds\n",
      "API request ERROR:  too_many_requests https://europe.api.riotgames.com/tft/match/v1/matches/EUW1_4620576212?api_key=RGAPI-e55ca1a4-b7e9-46d7-93ab-ea38ff3c47ba\n",
      "WARNING: Rate Limit Exceeded...retrying request after 95.0 seconds\n",
      "API request ERROR:  too_many_requests https://europe.api.riotgames.com/tft/match/v1/matches/EUW1_4627885918?api_key=RGAPI-e55ca1a4-b7e9-46d7-93ab-ea38ff3c47ba\n",
      "WARNING: Rate Limit Exceeded...retrying request after 94.0 seconds\n",
      "API request ERROR:  too_many_requests https://europe.api.riotgames.com/tft/match/v1/matches/EUW1_4597356595?api_key=RGAPI-e55ca1a4-b7e9-46d7-93ab-ea38ff3c47ba\n",
      "WARNING: Rate Limit Exceeded...retrying request after 98.0 seconds\n"
     ]
    }
   ],
   "source": [
    "# Get match data for each matchId\n",
    "API_address_match = 'https://' + regions_dict[region] + '.api.riotgames.com/tft/match/v1/matches/'\n",
    "\n",
    "match_data_json = []\n",
    "for matchId in matchId_list:\n",
    "    response = request_wrapper(API_address_match + matchId + API_key_suffix)\n",
    "    match_data_json.append(response.json())"
   ]
  },
  {
   "cell_type": "code",
   "execution_count": 128,
   "metadata": {},
   "outputs": [],
   "source": [
    "# Filter match data by patch\n",
    "def get_patch(match_data):\n",
    "    return '.'.join(match_data['info']['game_version'].split(' ', 1)[1].split('.', 2)[0:2])\n",
    "\n",
    "match_data_json = list(filter(lambda x: get_patch(x) == patch, match_data_json))\n"
   ]
  },
  {
   "cell_type": "code",
   "execution_count": 131,
   "metadata": {},
   "outputs": [],
   "source": [
    "# Save data\n",
    "with open('match_data/match_data_challenger_euw_10.11_300520.txt', 'w') as outfile:\n",
    "    json.dump(match_data_json, outfile)\n",
    "    \n",
    "    "
   ]
  }
 ],
 "metadata": {
  "kernelspec": {
   "display_name": "Python 3",
   "language": "python",
   "name": "python3"
  },
  "language_info": {
   "codemirror_mode": {
    "name": "ipython",
    "version": 3
   },
   "file_extension": ".py",
   "mimetype": "text/x-python",
   "name": "python",
   "nbconvert_exporter": "python",
   "pygments_lexer": "ipython3",
   "version": "3.7.4"
  }
 },
 "nbformat": 4,
 "nbformat_minor": 4
}
